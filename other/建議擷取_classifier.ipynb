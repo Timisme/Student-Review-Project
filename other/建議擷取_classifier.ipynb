{
 "cells": [
  {
   "cell_type": "code",
   "execution_count": 1,
   "metadata": {},
   "outputs": [],
   "source": [
    "from ckiptagger import data_utils, construct_dictionary, WS, POS, NER"
   ]
  },
  {
   "cell_type": "code",
   "execution_count": 2,
   "metadata": {},
   "outputs": [],
   "source": [
    "ws = WS(\"./data\")\n",
    "pos = POS(\"./data\")\n",
    "ner = NER(\"./data\")"
   ]
  },
  {
   "cell_type": "code",
   "execution_count": 14,
   "metadata": {},
   "outputs": [
    {
     "name": "stdout",
     "output_type": "stream",
     "text": [
      "[(2, {'公有': 2.0}), (3, {'土地公': 1.0, '土地婆': 1.0}), (5, {'緯來體育台': 10.0})]\n"
     ]
    }
   ],
   "source": [
    "word_to_weight = {\n",
    "    \"土地公\": 1,\n",
    "    \"土地婆\": 1,\n",
    "    \"公有\": 2,\n",
    "    \"\": 1,\n",
    "    \"來亂的\": \"啦\",\n",
    "    \"緯來體育台\": 10,\n",
    "}\n",
    "dictionary = construct_dictionary(word_to_weight)\n",
    "print(dictionary)"
   ]
  },
  {
   "cell_type": "code",
   "execution_count": 15,
   "metadata": {},
   "outputs": [],
   "source": [
    "sentence_list = [\n",
    "    \"傅達仁今將執行安樂死，卻突然爆出自己20年前遭緯來體育台封殺，他不懂自己哪裡得罪到電視台。\",\n",
    "    \"美國參議院針對今天總統布什所提名的勞工部長趙小蘭展開認可聽證會，預料她將會很順利通過參議院支持，成為該國有史以來第一位的華裔女性內閣成員。\",\n",
    "    \"\",\n",
    "    \"土地公有政策?？還是土地婆有政策。.\",\n",
    "    \"… 你確定嗎… 不要再騙了……\",\n",
    "    \"最多容納59,000個人,或5.9萬人,再多就不行了.這是環評的結論.\",\n",
    "    \"科長說:1,坪數對人數為1:3。2,可以再增加。\",\n",
    "]\n",
    "\n",
    "word_sentence_list = ws(\n",
    "    sentence_list,\n",
    "    # sentence_segmentation = True, # To consider delimiters\n",
    "    # segment_delimiter_set = {\",\", \"。\", \":\", \"?\", \"!\", \";\"}), # This is the defualt set of delimiters\n",
    "    # recommend_dictionary = dictionary1, # words in this dictionary are encouraged\n",
    "    coerce_dictionary = dictionary, # words in this dictionary are forced\n",
    ")\n",
    "\n",
    "pos_sentence_list = pos(word_sentence_list)\n",
    "\n",
    "entity_sentence_list = ner(word_sentence_list, pos_sentence_list)"
   ]
  },
  {
   "cell_type": "code",
   "execution_count": 16,
   "metadata": {},
   "outputs": [
    {
     "data": {
      "text/plain": [
       "[['傅達仁',\n",
       "  '今',\n",
       "  '將',\n",
       "  '執行',\n",
       "  '安樂死',\n",
       "  '，',\n",
       "  '卻',\n",
       "  '突然',\n",
       "  '爆出',\n",
       "  '自己',\n",
       "  '20',\n",
       "  '年',\n",
       "  '前',\n",
       "  '遭',\n",
       "  '緯來體育台',\n",
       "  '封殺',\n",
       "  '，',\n",
       "  '他',\n",
       "  '不',\n",
       "  '懂',\n",
       "  '自己',\n",
       "  '哪裡',\n",
       "  '得罪到',\n",
       "  '電視台',\n",
       "  '。'],\n",
       " ['美國',\n",
       "  '參議院',\n",
       "  '針對',\n",
       "  '今天',\n",
       "  '總統',\n",
       "  '布什',\n",
       "  '所',\n",
       "  '提名',\n",
       "  '的',\n",
       "  '勞工部長',\n",
       "  '趙小蘭',\n",
       "  '展開',\n",
       "  '認可',\n",
       "  '聽證會',\n",
       "  '，',\n",
       "  '預料',\n",
       "  '她',\n",
       "  '將',\n",
       "  '會',\n",
       "  '很',\n",
       "  '順利',\n",
       "  '通過',\n",
       "  '參議院',\n",
       "  '支持',\n",
       "  '，',\n",
       "  '成為',\n",
       "  '該',\n",
       "  '國',\n",
       "  '有史以來',\n",
       "  '第一',\n",
       "  '位',\n",
       "  '的',\n",
       "  '華裔',\n",
       "  '女性',\n",
       "  '內閣',\n",
       "  '成員',\n",
       "  '。'],\n",
       " [],\n",
       " ['土地', '公有', '政策', '?', '？', '還是', '土地婆', '有', '政策', '。', '.'],\n",
       " ['…', ' ', '你', '確定', '嗎', '…', ' ', '不要', '再', '騙', '了', '…', '…'],\n",
       " ['最多',\n",
       "  '容納',\n",
       "  '59,000',\n",
       "  '個',\n",
       "  '人',\n",
       "  ',',\n",
       "  '或',\n",
       "  '5.9萬',\n",
       "  '人',\n",
       "  ',',\n",
       "  '再',\n",
       "  '多',\n",
       "  '就',\n",
       "  '不行',\n",
       "  '了',\n",
       "  '.',\n",
       "  '這',\n",
       "  '是',\n",
       "  '環評',\n",
       "  '的',\n",
       "  '結論',\n",
       "  '.'],\n",
       " ['科長',\n",
       "  '說',\n",
       "  ':1,',\n",
       "  '坪數',\n",
       "  '對',\n",
       "  '人數',\n",
       "  '為',\n",
       "  '1:3',\n",
       "  '。',\n",
       "  '2',\n",
       "  ',',\n",
       "  '可以',\n",
       "  '再',\n",
       "  '增加',\n",
       "  '。']]"
      ]
     },
     "execution_count": 16,
     "metadata": {},
     "output_type": "execute_result"
    }
   ],
   "source": [
    "word_sentence_list"
   ]
  },
  {
   "cell_type": "code",
   "execution_count": null,
   "metadata": {},
   "outputs": [],
   "source": []
  }
 ],
 "metadata": {
  "kernelspec": {
   "display_name": "Python 3",
   "language": "python",
   "name": "python3"
  },
  "language_info": {
   "codemirror_mode": {
    "name": "ipython",
    "version": 3
   },
   "file_extension": ".py",
   "mimetype": "text/x-python",
   "name": "python",
   "nbconvert_exporter": "python",
   "pygments_lexer": "ipython3",
   "version": "3.7.4"
  }
 },
 "nbformat": 4,
 "nbformat_minor": 2
}
