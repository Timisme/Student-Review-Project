{
 "cells": [
  {
   "cell_type": "markdown",
   "metadata": {},
   "source": [
    "input \n",
    "1. tf-idf (document term matrix)\n",
    "2. n_topics\n",
    "3. n_iter\n",
    "\n",
    "every docu is prob of topics\n",
    "every topic is prob of words\n",
    "\n",
    "by the idea of gibbs sampling \n",
    "\n",
    "1. choose k (n_topics)\n",
    "2. randomly assign topic to each word in the documents \n",
    "3. go through every word and its assigned topic in each docu, and see 1. how often the topic occurs in the docu amd 2. how often the word occurs in the topic overall\n",
    "\n",
    "其他方法\n",
    "1. LSI \n",
    "2. NMF \n",
    "\n",
    "參考：[medium](https://medium.com/pyladies-taiwan/%E4%BB%A5-jieba-%E8%88%87-gensim-%E6%8E%A2%E7%B4%A2%E6%96%87%E6%9C%AC%E4%B8%BB%E9%A1%8C-%E4%BA%94%E6%9C%88%E5%A4%A9%E4%BA%BA%E7%94%9F%E7%84%A1%E9%99%90%E5%85%AC%E5%8F%B8%E6%AD%8C%E8%A9%9E%E5%88%86%E6%9E%90-ii-fdf5d3708662)\n",
    "[youtube python](https://www.youtube.com/watch?v=NYkbqzTlW3w)"
   ]
  },
  {
   "cell_type": "markdown",
   "metadata": {},
   "source": [
    "## loading data"
   ]
  },
  {
   "cell_type": "code",
   "execution_count": 286,
   "metadata": {},
   "outputs": [],
   "source": [
    "from ckiptagger import data_utils, construct_dictionary, WS, POS, NER\n",
    "from gensim import models, corpora\n",
    "import gensim\n",
    "import pandas as pd\n",
    "import numpy as np\n",
    "ws = WS(\"./data\")\n",
    "pos = POS(\"./data\")"
   ]
  },
  {
   "cell_type": "code",
   "execution_count": 287,
   "metadata": {},
   "outputs": [],
   "source": [
    "with open('dictionary/LDAwords.txt', 'r', encoding= 'utf-8') as f:\n",
    "    data = f.readlines()\n",
    "    word_dict = {}\n",
    "    \n",
    "    for row in data:\n",
    "        try:\n",
    "            (word, count) = row.strip().split()\n",
    "            word_dict[word] = count\n",
    "        except:\n",
    "            pass"
   ]
  },
  {
   "cell_type": "code",
   "execution_count": 288,
   "metadata": {},
   "outputs": [],
   "source": [
    "with open('stopwords/LDAstopwords.txt', 'r', encoding= 'utf-8') as f:\n",
    "    data = f.readlines()\n",
    "    stop_word_list = []\n",
    "    \n",
    "    for row in data:\n",
    "        stop_word_list.append(row.strip())"
   ]
  },
  {
   "cell_type": "code",
   "execution_count": 289,
   "metadata": {},
   "outputs": [],
   "source": [
    "dictionary = construct_dictionary(word_dict)"
   ]
  },
  {
   "cell_type": "code",
   "execution_count": 290,
   "metadata": {},
   "outputs": [],
   "source": [
    "df = pd.read_csv('data/sent_final_ok.csv', encoding = 'big5')"
   ]
  },
  {
   "cell_type": "code",
   "execution_count": 291,
   "metadata": {
    "scrolled": true
   },
   "outputs": [],
   "source": [
    "# df = df[df['標記']==1]"
   ]
  },
  {
   "cell_type": "code",
   "execution_count": 292,
   "metadata": {},
   "outputs": [],
   "source": [
    "documents = df['文本'].values"
   ]
  },
  {
   "cell_type": "markdown",
   "metadata": {},
   "source": [
    "# 斷詞\n",
    "包含stop words前處理"
   ]
  },
  {
   "cell_type": "code",
   "execution_count": 293,
   "metadata": {},
   "outputs": [],
   "source": [
    "cut_documents = ws(\n",
    "    documents,\n",
    "    sentence_segmentation = True, # To consider delimiters\n",
    "    segment_delimiter_set = {\",\", \"。\", \":\", \"?\", \"!\", \";\"}, \n",
    "    # This is the defualt set of delimiters\n",
    "    # recommend_dictionary = dictionary1, # words in this dictionary are encouraged\n",
    "    coerce_dictionary = dictionary) # words in this dictionary are forced"
   ]
  },
  {
   "cell_type": "code",
   "execution_count": 294,
   "metadata": {},
   "outputs": [],
   "source": [
    "del ws "
   ]
  },
  {
   "cell_type": "markdown",
   "metadata": {},
   "source": [
    "## pos tagging 前處理"
   ]
  },
  {
   "cell_type": "code",
   "execution_count": 295,
   "metadata": {},
   "outputs": [],
   "source": [
    "pos_stc_list = pos(cut_documents)\n",
    "del pos"
   ]
  },
  {
   "cell_type": "code",
   "execution_count": 296,
   "metadata": {},
   "outputs": [
    {
     "name": "stdout",
     "output_type": "stream",
     "text": [
      "['A', 'COMMACATEGORY', 'Caa', 'Cab', 'Cba', 'Cbb', 'D', 'DE', 'Da', 'Dfa', 'Dfb', 'Di', 'Dk', 'FW', 'I', 'Na', 'Nb', 'Nc', 'Ncd', 'Nd', 'Nep', 'Neqa', 'Neqb', 'Nes', 'Neu', 'Nf', 'Ng', 'Nh', 'Nv', 'P', 'SHI', 'T', 'VA', 'VAC', 'VB', 'VC', 'VCL', 'VD', 'VE', 'VF', 'VG', 'VH', 'VHC', 'VI', 'VJ', 'VK', 'VL', 'V_2']\n"
     ]
    }
   ],
   "source": [
    "pos_set = sorted(set([pos for stc in pos_stc_list for pos in stc]))\n",
    "print(pos_set)"
   ]
  },
  {
   "cell_type": "code",
   "execution_count": 297,
   "metadata": {},
   "outputs": [],
   "source": [
    "# for docu, stc_pos in zip(cut_documents, pos_stc_list):\n",
    "#     new_doc = [word for word, pos in zip(docu, stc_pos) if pos == 'VH']\n",
    "#     if new_doc:\n",
    "#         print(new_doc)"
   ]
  },
  {
   "cell_type": "code",
   "execution_count": 298,
   "metadata": {},
   "outputs": [],
   "source": [
    "pos_list= ['Na','Nb','VA','VB','A']\n",
    "# pos_list= pos_set\n",
    "new_cut_docs = []\n",
    "for docu, stc_pos in zip(cut_documents, pos_stc_list):\n",
    "    new_doc = [word for word, pos in zip(docu, stc_pos) if pos in pos_list]\n",
    "    if new_doc:\n",
    "        new_cut_docs.append(new_doc)"
   ]
  },
  {
   "cell_type": "code",
   "execution_count": 299,
   "metadata": {},
   "outputs": [],
   "source": [
    "# cut_documents[-100:]"
   ]
  },
  {
   "cell_type": "code",
   "execution_count": 300,
   "metadata": {},
   "outputs": [],
   "source": [
    "# new_cut_docs[:100]"
   ]
  },
  {
   "cell_type": "markdown",
   "metadata": {},
   "source": [
    "## stop words 移除"
   ]
  },
  {
   "cell_type": "code",
   "execution_count": 301,
   "metadata": {},
   "outputs": [],
   "source": [
    "cut_documents_clean = [[ word for word in doc if word not in set(stop_word_list)] for doc in new_cut_docs]\n",
    "doc_clean = [doc for doc in cut_documents_clean if doc]"
   ]
  },
  {
   "cell_type": "code",
   "execution_count": 302,
   "metadata": {},
   "outputs": [],
   "source": [
    "# stop_word_list"
   ]
  },
  {
   "cell_type": "code",
   "execution_count": 303,
   "metadata": {},
   "outputs": [
    {
     "data": {
      "text/plain": [
       "[['蘭花'],\n",
       " ['課程'],\n",
       " ['師生', '互動'],\n",
       " ['問題'],\n",
       " ['教學', '組織性'],\n",
       " ['考試', '範圍'],\n",
       " ['教學'],\n",
       " ['意識'],\n",
       " ['化工', '寶'],\n",
       " ['方面']]"
      ]
     },
     "execution_count": 303,
     "metadata": {},
     "output_type": "execute_result"
    }
   ],
   "source": [
    "doc_clean[:10]"
   ]
  },
  {
   "cell_type": "code",
   "execution_count": 304,
   "metadata": {},
   "outputs": [
    {
     "name": "stdout",
     "output_type": "stream",
     "text": [
      "clean doc 總數: 3284\n"
     ]
    }
   ],
   "source": [
    "print('clean doc 總數: {}'.format(len(doc_clean)))"
   ]
  },
  {
   "cell_type": "markdown",
   "metadata": {},
   "source": [
    "# Bigram & trigram"
   ]
  },
  {
   "cell_type": "code",
   "execution_count": 305,
   "metadata": {},
   "outputs": [],
   "source": [
    "# bigram = gensim.models.Phrases(doc_clean, min_count=1, threshold=1)\n",
    "# bigram_mod = gensim.models.phrases.Phraser(bigram)\n",
    "# doc_clean = [bigram_mod[doc] for doc in doc_clean]"
   ]
  },
  {
   "cell_type": "markdown",
   "metadata": {},
   "source": [
    "-----------"
   ]
  },
  {
   "cell_type": "markdown",
   "metadata": {},
   "source": [
    "# LDA process\n",
    "1. 作業\n",
    "2. 考試\n",
    "3. 報告\n",
    "3. 教學進度\n",
    "4. 教學內容\n",
    "5. 助教"
   ]
  },
  {
   "cell_type": "code",
   "execution_count": 306,
   "metadata": {},
   "outputs": [],
   "source": [
    "import matplotlib.pyplot as plt \n",
    "from gensim.models.coherencemodel import CoherenceModel"
   ]
  },
  {
   "cell_type": "code",
   "execution_count": 307,
   "metadata": {},
   "outputs": [],
   "source": [
    "word_count = {}\n",
    "for doc in doc_clean:\n",
    "    if len(doc) not in word_count.keys():\n",
    "        word_count[len(doc)] = 1\n",
    "    else:\n",
    "        word_count[len(doc)] += 1\n",
    "try:\n",
    "    print('有字數0', word_count[0])\n",
    "except:\n",
    "    pass"
   ]
  },
  {
   "cell_type": "code",
   "execution_count": 308,
   "metadata": {},
   "outputs": [
    {
     "data": {
      "image/png": "[encoded data removed]",
      "text/plain": [
       "<Figure size 432x288 with 1 Axes>"
      ]
     },
     "metadata": {
      "needs_background": "light"
     },
     "output_type": "display_data"
    }
   ],
   "source": [
    "plt.bar(word_count.keys(), word_count.values())\n",
    "plt.show()"
   ]
  },
  {
   "cell_type": "markdown",
   "metadata": {},
   "source": [
    "## 刪除低頻字"
   ]
  },
  {
   "cell_type": "code",
   "execution_count": 309,
   "metadata": {},
   "outputs": [],
   "source": [
    "word_counts = len([word for doc in doc_clean for word in doc])"
   ]
  },
  {
   "cell_type": "code",
   "execution_count": 310,
   "metadata": {},
   "outputs": [],
   "source": [
    "word_count_dict = {}\n",
    "for idx, doc in enumerate(doc_clean):\n",
    "    for word in doc:\n",
    "        if word not in word_count_dict.keys():\n",
    "            word_count_dict[word] = 1/word_counts\n",
    "        else:\n",
    "            word_count_dict[word] += 1/word_counts"
   ]
  },
  {
   "cell_type": "code",
   "execution_count": 311,
   "metadata": {},
   "outputs": [],
   "source": [
    "min_df = 0.001\n",
    "doc_clean = [[word for word in doc if word_count_dict[word] >= min_df] for doc in doc_clean]"
   ]
  },
  {
   "cell_type": "markdown",
   "metadata": {},
   "source": [
    "## 文本至少兩個字詞"
   ]
  },
  {
   "cell_type": "code",
   "execution_count": 312,
   "metadata": {},
   "outputs": [],
   "source": [
    "doc_clean = [doc for doc in doc_clean if len(doc) > 1]"
   ]
  },
  {
   "cell_type": "code",
   "execution_count": 313,
   "metadata": {},
   "outputs": [
    {
     "name": "stdout",
     "output_type": "stream",
     "text": [
      "final len:  1598\n"
     ]
    }
   ],
   "source": [
    "print('final len: ', len(doc_clean))"
   ]
  },
  {
   "cell_type": "markdown",
   "metadata": {},
   "source": [
    "## LDA"
   ]
  },
  {
   "cell_type": "code",
   "execution_count": 314,
   "metadata": {},
   "outputs": [],
   "source": [
    "lda_dict = corpora.Dictionary(doc_clean)"
   ]
  },
  {
   "cell_type": "code",
   "execution_count": 315,
   "metadata": {},
   "outputs": [],
   "source": [
    "doc_term_matrix = [lda_dict.doc2bow(doc) for doc in doc_clean]"
   ]
  },
  {
   "cell_type": "code",
   "execution_count": 316,
   "metadata": {},
   "outputs": [
    {
     "data": {
      "text/plain": [
       "[(0, 1), (1, 1)]"
      ]
     },
     "execution_count": 316,
     "metadata": {},
     "output_type": "execute_result"
    }
   ],
   "source": [
    "doc_term_matrix[0]"
   ]
  },
  {
   "cell_type": "code",
   "execution_count": 317,
   "metadata": {},
   "outputs": [],
   "source": [
    "Lda = models.ldamodel.LdaModel"
   ]
  },
  {
   "cell_type": "code",
   "execution_count": 318,
   "metadata": {},
   "outputs": [],
   "source": [
    "scores = []\n",
    "n_topics = []\n",
    "\n",
    "for n in range(0,10):\n",
    "    ldamodel = Lda(doc_term_matrix, num_topics=n+1, id2word = lda_dict, passes=100, random_state= 42)\n",
    "    cm = CoherenceModel(model=ldamodel, corpus=doc_term_matrix, coherence='u_mass')\n",
    "    coherence = cm.get_coherence() \n",
    "    scores.append(coherence)\n",
    "    n_topics.append(n+1)"
   ]
  },
  {
   "cell_type": "code",
   "execution_count": 319,
   "metadata": {},
   "outputs": [
    {
     "name": "stdout",
     "output_type": "stream",
     "text": [
      "-6.7398971264669925 1\n",
      "-10.295960217074391 2\n",
      "-11.424265206456957 3\n",
      "-13.149093532805956 4\n",
      "-13.315057543512273 5\n",
      "-14.031627208340849 6\n",
      "-14.138360219086518 7\n",
      "-14.61659671273781 8\n",
      "-15.225402171777448 9\n",
      "-15.125487231457441 10\n"
     ]
    }
   ],
   "source": [
    "for score, n in zip(scores, n_topics):\n",
    "    print(score, n)"
   ]
  },
  {
   "cell_type": "code",
   "execution_count": 333,
   "metadata": {},
   "outputs": [
    {
     "data": {
      "image/png": "[encoded data removed]",
      "text/plain": [
       "<Figure size 432x288 with 1 Axes>"
      ]
     },
     "metadata": {
      "needs_background": "light"
     },
     "output_type": "display_data"
    }
   ],
   "source": [
    "plt.plot(n_topics, scores)\n",
    "plt.xlabel('Number of Topics')\n",
    "plt.ylabel('Topic coherence (u_mass)')\n",
    "plt.title('Model Evaluation')\n",
    "plt.show()"
   ]
  },
  {
   "cell_type": "code",
   "execution_count": 320,
   "metadata": {},
   "outputs": [],
   "source": [
    "best_n_topic = n_topics[np.argmin(scores)]"
   ]
  },
  {
   "cell_type": "code",
   "execution_count": 345,
   "metadata": {},
   "outputs": [],
   "source": [
    "# select_n = best_n_topic\n",
    "select_n = 7"
   ]
  },
  {
   "cell_type": "code",
   "execution_count": 346,
   "metadata": {},
   "outputs": [],
   "source": [
    "ldamodel = Lda(doc_term_matrix, num_topics=select_n, id2word = lda_dict, passes=100, random_state= 42)"
   ]
  },
  {
   "cell_type": "code",
   "execution_count": 347,
   "metadata": {},
   "outputs": [
    {
     "name": "stdout",
     "output_type": "stream",
     "text": [
      "(0, '0.104*\"教學\" + 0.075*\"資料\" + 0.070*\"觀念\" + 0.049*\"方面\" + 0.048*\"例子\"') \n",
      "\n",
      "(1, '0.122*\"知識\" + 0.107*\"影片\" + 0.091*\"教學\" + 0.058*\"理論\" + 0.054*\"課本\"') \n",
      "\n",
      "(2, '0.250*\"時間\" + 0.248*\"問題\" + 0.053*\"教學\" + 0.045*\"考試\" + 0.041*\"成績\"') \n",
      "\n",
      "(3, '0.376*\"課程\" + 0.047*\"能力\" + 0.042*\"授課\" + 0.023*\"想法\" + 0.022*\"互動\"') \n",
      "\n",
      "(4, '0.238*\"報告\" + 0.195*\"作業\" + 0.129*\"助教\" + 0.039*\"分組\" + 0.037*\"回饋\"') \n",
      "\n",
      "(5, '0.081*\"重點\" + 0.079*\"收穫\" + 0.078*\"講義\" + 0.058*\"進度\" + 0.052*\"系統\"') \n",
      "\n",
      "(6, '0.191*\"教學\" + 0.145*\"考試\" + 0.064*\"題目\" + 0.049*\"分數\" + 0.046*\"作業\"') \n",
      "\n"
     ]
    }
   ],
   "source": [
    "for out in ldamodel.print_topics(num_topics=select_n, num_words=5):\n",
    "    print(out,'\\n')"
   ]
  },
  {
   "cell_type": "code",
   "execution_count": 348,
   "metadata": {},
   "outputs": [
    {
     "name": "stdout",
     "output_type": "stream",
     "text": [
      "-14.138360219086518\n"
     ]
    }
   ],
   "source": [
    "cm = CoherenceModel(model=ldamodel, corpus=doc_term_matrix, coherence='u_mass')\n",
    "# cm = CoherenceModel(model=ldamodel, corpus=doc_term_matrix, coherence='c_v')\n",
    "coherence = cm.get_coherence()  # get coherence value\n",
    "print(coherence)"
   ]
  },
  {
   "cell_type": "markdown",
   "metadata": {},
   "source": [
    "-----"
   ]
  },
  {
   "cell_type": "markdown",
   "metadata": {},
   "source": [
    "# Topic model evaluation "
   ]
  },
  {
   "cell_type": "code",
   "execution_count": 349,
   "metadata": {},
   "outputs": [],
   "source": [
    "import pyLDAvis.gensim\n",
    "pyLDAvis.enable_notebook()"
   ]
  },
  {
   "cell_type": "code",
   "execution_count": 350,
   "metadata": {},
   "outputs": [
    {
     "data": {
      "text/plain": [
       "[(0,\n",
       "  '0.104*\"教學\" + 0.075*\"資料\" + 0.070*\"觀念\" + 0.049*\"方面\" + 0.048*\"例子\" + 0.046*\"小考\" + 0.040*\"熱忱\" + 0.037*\"方向\" + 0.035*\"備課\" + 0.029*\"文本\"'),\n",
       " (1,\n",
       "  '0.122*\"知識\" + 0.107*\"影片\" + 0.091*\"教學\" + 0.058*\"理論\" + 0.054*\"課本\" + 0.049*\"教材\" + 0.044*\"機會\" + 0.036*\"疫情\" + 0.032*\"難度\" + 0.031*\"幫助\"'),\n",
       " (2,\n",
       "  '0.250*\"時間\" + 0.248*\"問題\" + 0.053*\"教學\" + 0.045*\"考試\" + 0.041*\"成績\" + 0.035*\"範圍\" + 0.030*\"發問\" + 0.028*\"期中考\" + 0.019*\"耐心\" + 0.016*\"講話\"'),\n",
       " (3,\n",
       "  '0.376*\"課程\" + 0.047*\"能力\" + 0.042*\"授課\" + 0.023*\"想法\" + 0.022*\"互動\" + 0.021*\"講課\" + 0.020*\"技巧\" + 0.019*\"動作\" + 0.019*\"進度\" + 0.018*\"英文\"'),\n",
       " (4,\n",
       "  '0.238*\"報告\" + 0.195*\"作業\" + 0.129*\"助教\" + 0.039*\"分組\" + 0.037*\"回饋\" + 0.030*\"邏輯\" + 0.023*\"要求\" + 0.022*\"期末考\" + 0.020*\"主題\" + 0.018*\"意見\"'),\n",
       " (5,\n",
       "  '0.081*\"重點\" + 0.079*\"收穫\" + 0.078*\"講義\" + 0.058*\"進度\" + 0.052*\"系統\" + 0.050*\"舉例\" + 0.048*\"態度\" + 0.048*\"考卷\" + 0.045*\"概念\" + 0.041*\"速度\"'),\n",
       " (6,\n",
       "  '0.191*\"教學\" + 0.145*\"考試\" + 0.064*\"題目\" + 0.049*\"分數\" + 0.046*\"作業\" + 0.041*\"評分\" + 0.033*\"進度\" + 0.032*\"答案\" + 0.030*\"標準\" + 0.026*\"反應\"')]"
      ]
     },
     "execution_count": 350,
     "metadata": {},
     "output_type": "execute_result"
    }
   ],
   "source": [
    "ldamodel.show_topics()"
   ]
  },
  {
   "cell_type": "code",
   "execution_count": 351,
   "metadata": {},
   "outputs": [],
   "source": [
    "graph = pyLDAvis.gensim.prepare(ldamodel, doc_term_matrix, lda_dict)"
   ]
  },
  {
   "cell_type": "code",
   "execution_count": 352,
   "metadata": {},
   "outputs": [
    {
     "data": {
      "text/html": [
       "\n",
       "<link rel=\"stylesheet\" type=\"text/css\" href=\"https://cdn.rawgit.com/bmabey/pyLDAvis/files/ldavis.v1.0.0.css\">\n",
       "\n",
       "\n",
       "<div id=\"ldavis_el648816290643793361270037813\"></div>\n",
       "<script type=\"text/javascript\">\n",
       "\n",
       "var ldavis_el648816290643793361270037813_data = {\"mdsDat\": {\"x\": [0.12919580660658514, -0.15169553111673903, 0.3059261519632898, -0.028173932050379463, 0.0514818490256297, -0.24767316945427767, -0.059061174974108524], \"y\": [-0.07117995342967125, 0.08986423810503347, -0.01484753400567981, -0.1753316717593248, 0.33746266450206963, 0.0251565693322663, -0.19112431274469333], \"topics\": [1, 2, 3, 4, 5, 6, 7], \"cluster\": [1, 1, 1, 1, 1, 1, 1], \"Freq\": [17.02446752245316, 16.08807713205948, 15.170167543353848, 13.964256012116753, 13.268891957588973, 12.369480314597958, 12.114659517829827]}, \"tinfo\": {\"Term\": [\"\\u8ab2\\u7a0b\", \"\\u6642\\u9593\", \"\\u554f\\u984c\", \"\\u5831\\u544a\", \"\\u4f5c\\u696d\", \"\\u6559\\u5b78\", \"\\u8003\\u8a66\", \"\\u52a9\\u6559\", \"\\u77e5\\u8b58\", \"\\u5f71\\u7247\", \"\\u91cd\\u9ede\", \"\\u6536\\u7a6b\", \"\\u8b1b\\u7fa9\", \"\\u8cc7\\u6599\", \"\\u89c0\\u5ff5\", \"\\u984c\\u76ee\", \"\\u7406\\u8ad6\", \"\\u5206\\u6578\", \"\\u8ab2\\u672c\", \"\\u6559\\u6750\", \"\\u80fd\\u529b\", \"\\u614b\\u5ea6\", \"\\u7cfb\\u7d71\", \"\\u9032\\u5ea6\", \"\\u8209\\u4f8b\", \"\\u8003\\u5377\", \"\\u4f8b\\u5b50\", \"\\u65b9\\u9762\", \"\\u8a55\\u5206\", \"\\u5c0f\\u8003\", \"\\u5206\\u6578\", \"\\u8a55\\u5206\", \"\\u7b54\\u6848\", \"\\u6a19\\u6e96\", \"\\u53cd\\u61c9\", \"\\u7372\\u76ca\", \"\\u6a5f\\u5236\", \"\\u96fb\\u8166\", \"\\u7591\\u554f\", \"\\u6548\\u7387\", \"\\u984c\\u76ee\", \"\\u984d\\u5916\", \"\\u8003\\u8a66\", \"\\u807d\\u8ab2\", \"\\u6b65\\u8abf\", \"\\u52a0\\u5206\", \"\\u5fc3\\u5f97\", \"\\u6a21\\u5f0f\", \"\\u5e0c\\u671b\", \"\\u7a0b\\u5ea6\", \"\\u751f\\u6d3b\", \"\\u58d3\\u529b\", \"\\u4f5c\\u54c1\", \"\\u904e\\u7a0b\", \"\\u6559\\u5b78\", \"\\u7cfb\\u7d71\\u6027\", \"\\u614b\\u5ea6\", \"\\u61c9\\u7528\\u6027\", \"\\u932f\\u8aa4\", \"\\u52d5\\u4f5c\", \"\\u9032\\u5ea6\", \"\\u4f5c\\u696d\", \"\\u671f\\u4e2d\\u8003\", \"\\u610f\\u7fa9\", \"\\u8ab2\\u7a0b\", \"\\u80fd\\u529b\", \"\\u4e2d\\u6587\", \"\\u6df1\\u5ea6\", \"\\u6559\\u5e2b\", \"\\u529f\\u8ab2\", \"\\u5be6\\u9a57\", \"\\u8ad6\\u6587\", \"\\u8b1b\\u8ab2\", \"\\u6280\\u5de7\", \"\\u6388\\u8ab2\", \"\\u60f3\\u6cd5\", \"\\u610f\\u601d\", \"\\u6d3b\\u52d5\", \"\\u5c0f\\u7d44\", \"\\u5efa\\u8b70\", \"\\u904b\\u52d5\", \"\\u6587\\u7ae0\", \"\\u610f\\u7fa9\", \"\\u6587\\u5316\", \"\\u4e92\\u52d5\", \"\\u5fc5\\u4fee\", \"\\u8108\\u7d61\", \"\\u6e2c\\u9a57\", \"\\u8cc7\\u6e90\", \"\\u57fa\\u672c\", \"\\u770b\\u6cd5\", \"\\u52d5\\u4f5c\", \"\\u82f1\\u6587\", \"\\u689d\\u7406\", \"\\u751f\\u6d3b\", \"\\u75ab\\u60c5\", \"\\u9032\\u5ea6\", \"\\u8010\\u5fc3\", \"\\u6642\\u9593\", \"\\u554f\\u984c\", \"\\u7bc4\\u570d\", \"\\u767c\\u554f\", \"\\u7bc0\\u594f\", \"\\u9632\\u75ab\", \"\\u7dda\\u4e0a\\u6559\\u5b78\", \"\\u6559\\u8ab2\", \"\\u4efd\\u91cf\", \"\\u8b1b\\u8a71\", \"\\u767c\\u8a00\", \"\\u6210\\u7e3e\", \"\\u8010\\u5fc3\", \"\\u671f\\u4e2d\\u8003\", \"\\u4e0a\\u53f0\", \"\\u8072\\u97f3\", \"\\u8a2d\\u8a08\", \"\\u58d3\\u529b\", \"\\u9304\\u5f71\", \"\\u671f\\u672b\\u8003\", \"\\u63d0\\u524d\", \"\\u5fc3\\u5f97\", \"\\u904b\\u52d5\", \"\\u5e0c\\u671b\", \"\\u75ab\\u60c5\", \"\\u6a21\\u5f0f\", \"\\u8003\\u8a66\", \"\\u4e92\\u52d5\", \"\\u52a0\\u5206\", \"\\u807d\\u8ab2\", \"\\u65b9\\u6cd5\", \"\\u6559\\u5b78\", \"\\u82f1\\u6587\", \"\\u77e5\\u8b58\", \"\\u5f71\\u7247\", \"\\u6559\\u6750\", \"\\u96e3\\u5ea6\", \"\\u5e6b\\u52a9\", \"\\u9060\\u8ddd\", \"\\u5be6\\u9ad4\", \"\\u79d1\\u7cfb\", \"\\u7406\\u8ad6\", \"\\u6a5f\\u6703\", \"\\u8ab2\\u672c\", \"\\u65b0\\u77e5\", \"\\u751f\\u7269\", \"\\u7269\\u7406\", \"\\u8208\\u8da3\", \"\\u57fa\\u790e\", \"\\u975e\", \"\\u7d93\\u9a57\", \"\\u5f48\\u6027\", \"\\u61c9\\u7528\", \"\\u75ab\\u60c5\", \"\\u6848\\u4f8b\", \"\\u4f5c\\u7b54\", \"\\u9304\\u5f71\", \"\\u6f14\\u8b1b\", \"\\u689d\\u7406\", \"\\u8072\\u97f3\", \"\\u9818\\u57df\", \"\\u610f\\u898b\", \"\\u6388\\u8ab2\", \"\\u6559\\u5b78\", \"\\u984c\\u76ee\", \"\\u5831\\u544a\", \"\\u52a9\\u6559\", \"\\u5206\\u7d44\", \"\\u908f\\u8f2f\", \"\\u8981\\u6c42\", \"\\u5c08\\u984c\", \"\\u5f62\\u5f0f\", \"\\u570b\\u6587\\u8ab2\", \"\\u4f5c\\u696d\", \"\\u56de\\u994b\", \"\\u671f\\u672b\\u8003\", \"\\u4e3b\\u984c\", \"\\u61c9\\u7528\\u6027\", \"\\u610f\\u898b\", \"\\u4e0a\\u53f0\", \"\\u4f5c\\u54c1\", \"\\u61c9\\u7528\", \"\\u4f5c\\u7b54\", \"\\u8cc7\\u6e90\", \"\\u5b78\\u5f1f\\u59b9\", \"\\u6587\\u7ae0\", \"\\u6210\\u7e3e\", \"\\u904e\\u7a0b\", \"\\u5c0f\\u7d44\", \"\\u6e2c\\u9a57\", \"\\u60f3\\u6cd5\", \"\\u65b9\\u9762\", \"\\u767c\\u8a00\", \"\\u6d3b\\u52d5\", \"\\u8b1b\\u8ab2\", \"\\u6a5f\\u6703\", \"\\u65b9\\u6cd5\", \"\\u671f\\u4e2d\\u8003\", \"\\u82f1\\u6587\", \"\\u91cd\\u9ede\", \"\\u6536\\u7a6b\", \"\\u8b1b\\u7fa9\", \"\\u8209\\u4f8b\", \"\\u8003\\u5377\", \"\\u6982\\u5ff5\", \"\\u7b46\\u8a18\", \"\\u7cfb\\u7d71\", \"\\u516c\\u5f0f\", \"\\u4f8b\\u984c\", \"\\u7ae0\\u7bc0\", \"\\u7c21\\u5831\", \"\\u6548\\u679c\", \"\\u653f\\u6cbb\", \"\\u7d93\\u6fdf\", \"\\u8cc7\\u8a0a\", \"\\u901f\\u5ea6\", \"\\u6578\\u5b78\", \"\\u614b\\u5ea6\", \"\\u8a9e\\u8a00\", \"\\u63d0\\u524d\", \"\\u67b6\\u69cb\", \"\\u9032\\u5ea6\", \"\\u9ed1\\u677f\", \"\\u7528\\u5fc3\", \"\\u57fa\\u790e\", \"\\u7cfb\\u7d71\\u6027\", \"\\u57fa\\u672c\", \"\\u7269\\u7406\", \"\\u56de\\u994b\", \"\\u8ab2\\u672c\", \"\\u65b9\\u6cd5\", \"\\u904e\\u7a0b\", \"\\u8cc7\\u6599\", \"\\u89c0\\u5ff5\", \"\\u5c0f\\u8003\", \"\\u4f8b\\u5b50\", \"\\u71b1\\u5ff1\", \"\\u65b9\\u5411\", \"\\u6587\\u672c\", \"\\u54c1\\u8cea\", \"\\u5be6\\u52d9\", \"\\u56de\\u53bb\", \"\\u5275\\u610f\", \"\\u807d\\u8b1b\", \"\\u6bd4\\u8cfd\", \"\\u5b78\\u5206\", \"\\u6295\\u5f71\\u7247\", \"\\u5099\\u8ab2\", \"\\u6642\\u4e8b\", \"\\u65b9\\u9762\", \"\\u8b70\\u984c\", \"\\u8b1b\\u5e2b\", \"\\u9ed1\\u677f\", \"\\u6545\\u4e8b\", \"\\u9818\\u57df\", \"\\u67b6\\u69cb\", \"\\u770b\\u6cd5\", \"\\u932f\\u8aa4\", \"\\u6c23\\u6c1b\", \"\\u5b78\\u5f1f\\u59b9\", \"\\u7d93\\u9a57\", \"\\u610f\\u898b\", \"\\u6559\\u5b78\", \"\\u8208\\u8da3\", \"\\u9032\\u5ea6\"], \"Freq\": [317.0, 199.0, 197.0, 166.0, 177.0, 345.0, 169.0, 90.0, 90.0, 78.0, 53.0, 52.0, 51.0, 48.0, 45.0, 70.0, 45.0, 44.0, 49.0, 36.0, 40.0, 52.0, 35.0, 99.0, 33.0, 32.0, 31.0, 40.0, 37.0, 30.0, 43.35502645480441, 36.77755258732745, 28.32078052099511, 26.44214901821718, 23.62331477562805, 13.28757536460346, 10.451895823618791, 9.528996424021926, 8.589635782872135, 15.896297262607783, 56.79767100430247, 13.203821046406286, 129.72828312702887, 8.516052320669308, 7.652479727753974, 15.921177828191011, 12.190930977025033, 9.482804028841063, 6.666321510944048, 11.053308888148253, 21.039147576795038, 13.496234611004521, 4.8303606353518775, 9.573123890204835, 170.06018370031302, 5.431037175287062, 20.782171984492596, 4.899756464774032, 5.833796422328252, 11.244486066583551, 29.672524275131867, 40.764900555867804, 10.13969252483164, 6.324505933265959, 317.087400614032, 39.40119088469105, 12.287122193639913, 11.352378790750596, 10.417193898289582, 9.481560446139177, 8.54676048230829, 11.133843023898276, 17.784859068872873, 16.832160709309736, 35.27991558451571, 19.490303432726975, 7.830772019919873, 8.548271916358011, 10.419003062851177, 14.077971222558231, 14.452128135590272, 8.548580644830745, 14.539497507805397, 8.549927895036188, 18.14121971009494, 9.41811478107073, 8.303696120461948, 8.540701391442646, 7.0525382413341005, 8.941776599250023, 4.529985449525976, 16.405857750425046, 15.028334872144356, 9.710880499184102, 14.858752600220535, 12.943779799459072, 16.052738365382368, 9.482166905123783, 198.77889050520574, 196.85990332270387, 27.8874569609037, 24.12695000105971, 10.692087853087736, 10.691809331914088, 11.230384095751166, 7.78350753313815, 8.563466079556758, 12.565422007788875, 11.653499240398702, 32.52750415721453, 15.491215825167243, 22.33239067138928, 11.470048602683663, 5.546903619107482, 6.384741606176917, 9.520635944952017, 4.998660614955384, 8.910802724033699, 3.904376849867287, 5.095405981668779, 5.591081818033916, 2.670638792405132, 11.173601332221578, 3.010376845926552, 35.59162818217703, 5.994788259140692, 4.146152858410109, 2.131317910344233, 5.108944258876676, 41.911072128837446, 4.72353910334629, 89.6559098416035, 77.97389847212713, 36.14015317054776, 23.490336691351683, 22.51706166818543, 18.624661168040518, 14.733605303811405, 13.760832132589389, 42.82101899378794, 32.0034175962378, 39.786486661828775, 5.977623966731262, 8.897891566001492, 11.822390813594987, 15.089099219896372, 16.98102377308139, 5.97690050896926, 21.870861831033736, 6.7309098718043545, 18.119315352389492, 26.213265332696682, 4.736520584328443, 9.237444864216455, 5.356018966031406, 8.443093014586989, 8.02491192663621, 3.3421992804537046, 6.4287411341146194, 6.967203041308656, 10.266349084418659, 66.82206095226033, 13.462595704902919, 165.80855415415996, 89.92688495326404, 27.08781158396382, 21.098967364223395, 16.10831784026921, 12.113438533053214, 10.12139337772263, 9.123374913443888, 135.62601622451967, 25.875393236790703, 14.968576848461684, 13.614312870868513, 7.05553012467915, 12.384713247533925, 7.8407296063513945, 3.1378168929903985, 9.848870140760466, 6.262894580464284, 3.7359336712508835, 3.902034458710718, 3.135303002368688, 10.367603047720998, 4.0570760711648886, 3.134602611708361, 3.142024096277016, 5.42758736272077, 8.51683271414095, 3.134917819901006, 2.1375116305288415, 4.251608443228304, 7.37895835091104, 4.817429825874237, 5.353381587773576, 4.4044905718056295, 52.2961908184001, 51.29275656022191, 50.290124403903235, 32.23692793571611, 31.233513005293577, 29.22794669647417, 26.21915148688037, 33.867852276910824, 20.198121935171674, 16.18986069723172, 15.185991564551394, 12.1777713556882, 11.174252538579045, 7.1635433195874585, 10.449628403570495, 21.534569799257138, 26.76473537338817, 12.966009174466828, 31.258549696769595, 8.555148370353455, 6.10232088399079, 5.904076698273982, 37.8598141769136, 3.1522974533803834, 3.8498349468292137, 6.853328009454902, 3.0434613513304134, 4.254664452810832, 4.147069253072873, 8.382030870974914, 9.42289332797067, 5.895701740153591, 4.186123097338375, 47.617499531563915, 44.587331369334244, 29.43591793811755, 30.398447315253275, 25.39610228544137, 23.375425444548664, 18.325608554730845, 16.30434134728006, 12.2647433848778, 12.26451386361073, 11.254717302650551, 11.254433358815003, 8.224593506645189, 16.163319458255142, 14.287672846865862, 22.08683626245569, 11.07769843387386, 31.06082676242563, 14.62320572803663, 18.311136883912344, 5.194089935759779, 5.130138685398168, 14.622209558413578, 6.460204371719363, 3.4742802787900353, 5.833526721019743, 3.1762170402431247, 4.349279531995229, 9.906504055939807, 8.73813077832187, 65.8434899408902, 5.83552970815968, 15.224939504332895], \"Total\": [317.0, 199.0, 197.0, 166.0, 177.0, 345.0, 169.0, 90.0, 90.0, 78.0, 53.0, 52.0, 51.0, 48.0, 45.0, 70.0, 45.0, 44.0, 49.0, 36.0, 40.0, 52.0, 35.0, 99.0, 33.0, 32.0, 31.0, 40.0, 37.0, 30.0, 44.1954927034081, 37.61826168214859, 29.161833169076903, 27.28266983986901, 24.46383966670105, 14.128169773549164, 11.309402620270292, 10.369783392686967, 9.430223824341173, 17.95783716865721, 70.96194454450682, 17.142581857134644, 169.16092080971526, 11.350846576332058, 10.360339946098195, 21.80041856754662, 17.989971495969403, 14.25799659646322, 11.35547280194666, 18.8309977682866, 36.6055601353095, 23.720004434333987, 8.665745812472405, 18.37081606830348, 345.09842584229705, 11.48097147799891, 52.73816184094369, 12.653304612527625, 15.67380721149363, 33.175825943376275, 99.22951629693056, 177.08919876968915, 38.38615641439392, 21.573629140954225, 317.92990233075864, 40.24265900112208, 13.128454040026073, 12.193464116576969, 11.258528773117257, 10.323438764655231, 9.388478483446026, 14.204112968538057, 22.73766124850611, 21.763074530730844, 46.24848586273891, 25.61667391946747, 10.331531864117643, 11.384344242334386, 14.252220458721437, 20.037095988855, 20.748320688014573, 12.38239116983139, 21.573629140954225, 13.354398746235287, 28.5111979935048, 15.09653850750149, 13.368824524811783, 14.402744057969883, 12.424662170123215, 16.333772228909055, 8.701136135689124, 33.175825943376275, 35.65910319560942, 23.135843753626638, 36.6055601353095, 50.895542170005385, 99.22951629693056, 25.67745825655572, 199.6170878874537, 197.69788028635512, 28.80655316726829, 24.96455554231613, 11.529683904580143, 11.52968289408112, 13.419868844643917, 9.584853350832194, 10.616767805541814, 16.32478617275931, 15.483167707821048, 43.590388427145335, 25.67745825655572, 38.38615641439392, 21.441365845533788, 10.667895651344493, 13.36974151506313, 23.720004434333987, 13.457175332636563, 24.574655961426522, 11.830310260136725, 17.989971495969403, 20.748320688014573, 11.35547280194666, 50.895542170005385, 14.25799659646322, 169.16092080971526, 28.5111979935048, 21.80041856754662, 11.350846576332058, 28.026517749543785, 345.09842584229705, 35.65910319560942, 90.49238263919172, 78.81601723420818, 36.97586554127137, 24.326396601541532, 23.353355067570146, 19.461331631181928, 15.569233588824488, 14.596222656293516, 45.655168289790474, 40.07575484009238, 49.90205371098836, 7.821977604065895, 11.75099342753604, 16.66167287986688, 21.616105526286017, 24.526634249360388, 8.831888176346427, 32.46881317736248, 10.581130917932027, 30.460992720729777, 50.895542170005385, 9.681291228977615, 19.567036509186412, 13.457175332636563, 21.520288352044485, 23.135843753626638, 10.667895651344493, 26.605671918960496, 30.701950083171397, 46.24848586273891, 345.09842584229705, 70.96194454450682, 166.64045908247758, 90.79149855200016, 27.91962565519429, 21.931483328012746, 16.94155136884359, 12.949417026583534, 10.953648009639027, 9.955622643193832, 177.08919876968915, 34.946192957573786, 24.574655961426522, 22.39377644243975, 12.653304612527625, 30.701950083171397, 21.441365845533788, 8.665745812472405, 30.460992720729777, 19.567036509186412, 12.424662170123215, 13.754001671878287, 12.38239116983139, 43.590388427145335, 18.37081606830348, 14.252220458721437, 14.402744057969883, 25.61667391946747, 40.265743923542374, 15.483167707821048, 11.384344242334386, 22.73766124850611, 40.07575484009238, 28.026517749543785, 38.38615641439392, 35.65910319560942, 53.127702298613066, 52.124644126594184, 51.12175988596588, 33.06848801530202, 32.065453593012464, 30.05959573908136, 27.05071416883419, 35.0506768140961, 21.033028726724567, 17.021153484788545, 16.018071263415482, 13.009293294626081, 12.006168782536466, 7.994565282171769, 12.011509478572105, 26.073801068931587, 32.722686874649554, 15.951827493792326, 52.73816184094369, 14.70309256484819, 11.830310260136725, 13.053602059268655, 99.22951629693056, 9.033071981423383, 13.482008638266597, 24.526634249360388, 11.48097147799891, 16.333772228909055, 16.66167287986688, 34.946192957573786, 49.90205371098836, 28.026517749543785, 18.37081606830348, 48.44818645640056, 45.417910684361594, 30.266493030728707, 31.2730614277946, 26.22621668231636, 24.20593593662148, 19.155578125995763, 17.135250496508583, 13.09494650736265, 13.094920601263622, 12.084882237048843, 12.084809226556313, 9.054597516288027, 19.047237759897133, 16.994378908603274, 26.934700136670497, 14.024322230488927, 40.265743923542374, 19.883188333982417, 25.69909369028489, 9.033071981423383, 9.027214327738923, 26.605671918960496, 13.053602059268655, 8.701136135689124, 15.67380721149363, 8.746234391659428, 13.754001671878287, 32.46881317736248, 30.701950083171397, 345.09842584229705, 21.616105526286017, 99.22951629693056], \"Category\": [\"Default\", \"Default\", \"Default\", \"Default\", \"Default\", \"Default\", \"Default\", \"Default\", \"Default\", \"Default\", \"Default\", \"Default\", \"Default\", \"Default\", \"Default\", \"Default\", \"Default\", \"Default\", \"Default\", \"Default\", \"Default\", \"Default\", \"Default\", \"Default\", \"Default\", \"Default\", \"Default\", \"Default\", \"Default\", \"Default\", \"Topic1\", \"Topic1\", \"Topic1\", \"Topic1\", \"Topic1\", \"Topic1\", \"Topic1\", \"Topic1\", \"Topic1\", \"Topic1\", \"Topic1\", \"Topic1\", \"Topic1\", \"Topic1\", \"Topic1\", \"Topic1\", \"Topic1\", \"Topic1\", \"Topic1\", \"Topic1\", \"Topic1\", \"Topic1\", \"Topic1\", \"Topic1\", \"Topic1\", \"Topic1\", \"Topic1\", \"Topic1\", \"Topic1\", \"Topic1\", \"Topic1\", \"Topic1\", \"Topic1\", \"Topic1\", \"Topic2\", \"Topic2\", \"Topic2\", \"Topic2\", \"Topic2\", \"Topic2\", \"Topic2\", \"Topic2\", \"Topic2\", \"Topic2\", \"Topic2\", \"Topic2\", \"Topic2\", \"Topic2\", \"Topic2\", \"Topic2\", \"Topic2\", \"Topic2\", \"Topic2\", \"Topic2\", \"Topic2\", \"Topic2\", \"Topic2\", \"Topic2\", \"Topic2\", \"Topic2\", \"Topic2\", \"Topic2\", \"Topic2\", \"Topic2\", \"Topic2\", \"Topic2\", \"Topic2\", \"Topic2\", \"Topic3\", \"Topic3\", \"Topic3\", \"Topic3\", \"Topic3\", \"Topic3\", \"Topic3\", \"Topic3\", \"Topic3\", \"Topic3\", \"Topic3\", \"Topic3\", \"Topic3\", \"Topic3\", \"Topic3\", \"Topic3\", \"Topic3\", \"Topic3\", \"Topic3\", \"Topic3\", \"Topic3\", \"Topic3\", \"Topic3\", \"Topic3\", \"Topic3\", \"Topic3\", \"Topic3\", \"Topic3\", \"Topic3\", \"Topic3\", \"Topic3\", \"Topic3\", \"Topic3\", \"Topic4\", \"Topic4\", \"Topic4\", \"Topic4\", \"Topic4\", \"Topic4\", \"Topic4\", \"Topic4\", \"Topic4\", \"Topic4\", \"Topic4\", \"Topic4\", \"Topic4\", \"Topic4\", \"Topic4\", \"Topic4\", \"Topic4\", \"Topic4\", \"Topic4\", \"Topic4\", \"Topic4\", \"Topic4\", \"Topic4\", \"Topic4\", \"Topic4\", \"Topic4\", \"Topic4\", \"Topic4\", \"Topic4\", \"Topic4\", \"Topic4\", \"Topic4\", \"Topic5\", \"Topic5\", \"Topic5\", \"Topic5\", \"Topic5\", \"Topic5\", \"Topic5\", \"Topic5\", \"Topic5\", \"Topic5\", \"Topic5\", \"Topic5\", \"Topic5\", \"Topic5\", \"Topic5\", \"Topic5\", \"Topic5\", \"Topic5\", \"Topic5\", \"Topic5\", \"Topic5\", \"Topic5\", \"Topic5\", \"Topic5\", \"Topic5\", \"Topic5\", \"Topic5\", \"Topic5\", \"Topic5\", \"Topic5\", \"Topic5\", \"Topic5\", \"Topic5\", \"Topic5\", \"Topic6\", \"Topic6\", \"Topic6\", \"Topic6\", \"Topic6\", \"Topic6\", \"Topic6\", \"Topic6\", \"Topic6\", \"Topic6\", \"Topic6\", \"Topic6\", \"Topic6\", \"Topic6\", \"Topic6\", \"Topic6\", \"Topic6\", \"Topic6\", \"Topic6\", \"Topic6\", \"Topic6\", \"Topic6\", \"Topic6\", \"Topic6\", \"Topic6\", \"Topic6\", \"Topic6\", \"Topic6\", \"Topic6\", \"Topic6\", \"Topic6\", \"Topic6\", \"Topic6\", \"Topic7\", \"Topic7\", \"Topic7\", \"Topic7\", \"Topic7\", \"Topic7\", \"Topic7\", \"Topic7\", \"Topic7\", \"Topic7\", \"Topic7\", \"Topic7\", \"Topic7\", \"Topic7\", \"Topic7\", \"Topic7\", \"Topic7\", \"Topic7\", \"Topic7\", \"Topic7\", \"Topic7\", \"Topic7\", \"Topic7\", \"Topic7\", \"Topic7\", \"Topic7\", \"Topic7\", \"Topic7\", \"Topic7\", \"Topic7\", \"Topic7\", \"Topic7\", \"Topic7\"], \"logprob\": [30.0, 29.0, 28.0, 27.0, 26.0, 25.0, 24.0, 23.0, 22.0, 21.0, 20.0, 19.0, 18.0, 17.0, 16.0, 15.0, 14.0, 13.0, 12.0, 11.0, 10.0, 9.0, 8.0, 7.0, 6.0, 5.0, 4.0, 3.0, 2.0, 1.0, -3.0246999263763428, -3.189199924468994, -3.450500011444092, -3.519200086593628, -3.6319000720977783, -4.207300186157227, -4.447299957275391, -4.53980016708374, -4.643599987030029, -4.0279998779296875, -2.7546000480651855, -4.213600158691406, -1.9286999702453613, -4.652200222015381, -4.759099960327148, -4.026500225067139, -4.293399810791016, -4.5447001457214355, -4.89709997177124, -4.39139986038208, -3.7476999759674072, -4.191699981689453, -5.219200134277344, -4.535200119018555, -1.6579999923706055, -5.1020002365112305, -3.759999990463257, -5.204899787902832, -5.0304999351501465, -4.374300003051758, -3.403899908065796, -3.0862998962402344, -4.477700233459473, -4.949699878692627, -0.9783999919891357, -3.063800096511841, -4.229000091552734, -4.30810022354126, -4.394100189208984, -4.4882001876831055, -4.5920000076293945, -4.327600002288818, -3.8592000007629395, -3.914299964904785, -3.1742000579833984, -3.7676000595092773, -4.679500102996826, -4.591800212860107, -4.393899917602539, -4.092899799346924, -4.066699981689453, -4.591800212860107, -4.060699939727783, -4.591599941253662, -3.839400053024292, -4.494900226593018, -4.6209001541137695, -4.592700004577637, -4.784200191497803, -4.546800136566162, -5.226799964904785, -3.9398999214172363, -4.027599811553955, -4.464300155639648, -4.039000034332275, -4.1768999099731445, -3.961699962615967, -4.488100051879883, -1.3866000175476074, -1.396299958229065, -3.350600004196167, -3.495500087738037, -4.309299945831299, -4.309299945831299, -4.260200023651123, -4.626800060272217, -4.531300067901611, -4.147900104522705, -4.223199844360352, -3.196700096130371, -3.938499927520752, -3.5727999210357666, -4.239099979400635, -4.96560001373291, -4.824900150299072, -4.425300121307373, -5.0696001052856445, -4.491499900817871, -5.316699981689453, -5.05049991607666, -4.957600116729736, -5.696499824523926, -4.2652997970581055, -5.576700210571289, -3.1066999435424805, -4.887899875640869, -5.2565999031066895, -5.922100067138672, -5.047800064086914, -2.9433000087738037, -5.126299858093262, -2.0999999046325684, -2.2395999431610107, -3.0085999965667725, -3.4393999576568604, -3.4816999435424805, -3.6714999675750732, -3.9058001041412354, -3.9742000102996826, -2.8389999866485596, -3.1301000118255615, -2.9124999046325684, -4.808000087738037, -4.410200119018555, -4.125999927520752, -3.881999969482422, -3.7639000415802, -4.80810022354126, -3.5107998847961426, -4.689300060272217, -3.6989998817443848, -3.329699993133545, -5.0406999588012695, -4.372700214385986, -4.917799949645996, -4.462600231170654, -4.513400077819824, -5.389400005340576, -4.735199928283691, -4.654799938201904, -4.267099857330322, -2.393899917602539, -3.9960999488830566, -1.4341000318527222, -2.0459001064300537, -3.245800018310547, -3.495699882507324, -3.7655999660491943, -4.050600051879883, -4.230199813842773, -4.334099769592285, -1.6349999904632568, -3.291599988937378, -3.838900089263916, -3.933799982070923, -4.591100215911865, -4.02839994430542, -4.485599994659424, -5.401400089263916, -4.257500171661377, -4.710299968719482, -5.226900100708008, -5.1834001541137695, -5.402200222015381, -4.206200122833252, -5.144400119781494, -5.402400016784668, -5.400000095367432, -4.853400230407715, -4.402900218963623, -5.402299880981445, -5.785299777984619, -5.097599983215332, -4.546299934387207, -4.972700119018555, -4.867199897766113, -5.062300205230713, -2.5178000926971436, -2.5371999740600586, -2.5569000244140625, -3.0016000270843506, -3.0332000255584717, -3.099600076675415, -3.208199977874756, -2.952199935913086, -3.469099998474121, -3.6902999877929688, -3.754300117492676, -3.975100040435791, -4.061100006103516, -4.50570011138916, -4.1280999183654785, -3.405100107192993, -3.1875998973846436, -3.912400007247925, -3.032399892807007, -4.328199863433838, -4.665999889373779, -4.699100017547607, -2.8408000469207764, -5.326600074768066, -5.126699924468994, -4.550000190734863, -5.361700057983398, -5.026700019836426, -5.052299976348877, -4.348599910736084, -4.231599807739258, -4.700500011444092, -5.042900085449219, -2.5906999111175537, -2.656399965286255, -3.071700096130371, -3.0394999980926514, -3.2193000316619873, -3.3022000789642334, -3.545599937438965, -3.6624999046325684, -3.947200059890747, -3.947200059890747, -4.033100128173828, -4.033100128173828, -4.346799850463867, -3.6712000370025635, -3.7945001125335693, -3.3589000701904297, -4.048999786376953, -3.017899990081787, -3.7713000774383545, -3.5464000701904297, -4.806399822235107, -4.81879997253418, -3.771399974822998, -4.588200092315674, -5.208499908447266, -4.690299987792969, -5.2982001304626465, -4.98390007019043, -4.160699844360352, -4.286200046539307, -2.2665998935699463, -4.689899921417236, -3.7309999465942383], \"loglift\": [30.0, 29.0, 28.0, 27.0, 26.0, 25.0, 24.0, 23.0, 22.0, 21.0, 20.0, 19.0, 18.0, 17.0, 16.0, 15.0, 14.0, 13.0, 12.0, 11.0, 10.0, 9.0, 8.0, 7.0, 6.0, 5.0, 4.0, 3.0, 2.0, 1.0, 1.7513, 1.7479, 1.7413, 1.7392, 1.7356, 1.7092, 1.6917, 1.686, 1.6772, 1.6486, 1.5479, 1.5095, 1.5051, 1.4832, 1.4676, 1.4562, 1.3814, 1.3627, 1.2379, 1.2377, 1.2167, 1.2066, 1.1861, 1.1187, 1.0628, 1.022, 0.8393, 0.8218, 0.7822, 0.6886, 0.5633, 0.3017, 0.4393, 0.5435, 1.8244, 1.806, 1.7609, 1.7556, 1.7494, 1.742, 1.7332, 1.5835, 1.5814, 1.5702, 1.5564, 1.5538, 1.55, 1.5406, 1.5138, 1.4741, 1.4655, 1.4566, 1.4325, 1.3812, 1.375, 1.3553, 1.3509, 1.3045, 1.2608, 1.2246, 1.1744, 1.1229, 0.963, 0.959, 0.9255, 0.4579, 0.0055, 0.8309, 1.8816, 1.8816, 1.8534, 1.8517, 1.8104, 1.8104, 1.7077, 1.6777, 1.6709, 1.6241, 1.6017, 1.5931, 1.3805, 1.3442, 1.2603, 1.2318, 1.1468, 0.973, 0.8955, 0.8714, 0.7773, 0.6244, 0.5745, 0.4385, 0.3696, 0.3306, 0.3271, 0.3264, 0.2261, 0.2133, 0.1837, -0.2224, -0.1356, 1.9594, 1.9579, 1.9458, 1.9337, 1.9322, 1.9247, 1.9135, 1.9097, 1.9046, 1.7437, 1.7421, 1.6998, 1.6905, 1.6256, 1.6092, 1.601, 1.5782, 1.5735, 1.5163, 1.4492, 1.3052, 1.2538, 1.2181, 1.0474, 1.033, 0.9098, 0.8081, 0.5483, 0.4856, 0.4635, 0.3269, 0.3064, 2.0147, 2.0102, 1.9895, 1.981, 1.9693, 1.953, 1.9407, 1.9325, 1.753, 1.7192, 1.524, 1.5221, 1.4356, 1.1119, 1.0138, 1.0039, 0.8907, 0.8805, 0.8181, 0.7599, 0.6462, 0.5836, 0.5094, 0.5053, 0.4972, 0.468, 0.4663, 0.4226, 0.3472, 0.343, 0.3276, 0.2588, 0.0498, -0.0716, 2.0742, 2.0738, 2.0735, 2.0645, 2.0637, 2.0619, 2.0587, 2.0556, 2.0494, 2.0399, 2.0366, 2.0239, 2.0181, 1.9802, 1.9506, 1.8987, 1.889, 1.8827, 1.5669, 1.5484, 1.4279, 1.2965, 1.1264, 1.0372, 0.8366, 0.8149, 0.7622, 0.7447, 0.6992, 0.6622, 0.423, 0.531, 0.6109, 2.0935, 2.0923, 2.0829, 2.0824, 2.0786, 2.0758, 2.0665, 2.061, 2.0453, 2.0452, 2.0396, 2.0396, 2.0146, 1.9466, 1.9373, 1.9123, 1.8749, 1.8512, 1.8035, 1.7718, 1.5574, 1.5456, 1.5122, 1.4074, 1.1927, 1.1224, 1.0978, 0.9594, 0.9237, 0.8541, 0.4542, 0.8013, 0.2363]}, \"token.table\": {\"Topic\": [3, 4, 5, 2, 2, 5, 2, 3, 7, 3, 5, 1, 5, 1, 5, 3, 4, 5, 7, 6, 1, 7, 6, 1, 5, 7, 2, 1, 3, 7, 5, 1, 2, 7, 1, 7, 3, 7, 5, 6, 5, 2, 4, 5, 6, 4, 6, 5, 1, 3, 3, 7, 2, 4, 5, 7, 7, 2, 4, 5, 2, 5, 7, 1, 2, 3, 4, 2, 6, 7, 2, 4, 5, 4, 1, 3, 1, 2, 4, 2, 5, 1, 2, 1, 2, 2, 4, 5, 7, 1, 6, 4, 5, 6, 1, 5, 3, 5, 2, 4, 6, 1, 7, 2, 4, 3, 5, 6, 6, 6, 5, 6, 7, 6, 1, 5, 1, 3, 4, 7, 2, 4, 2, 3, 4, 6, 2, 4, 7, 7, 2, 5, 4, 7, 7, 1, 2, 3, 4, 5, 6, 5, 7, 4, 7, 3, 1, 3, 5, 3, 5, 6, 7, 2, 3, 4, 7, 2, 4, 7, 6, 1, 1, 3, 7, 1, 4, 5, 1, 2, 7, 1, 2, 5, 7, 2, 5, 2, 2, 5, 7, 2, 4, 6, 7, 7, 4, 6, 1, 2, 4, 1, 2, 4, 7, 1, 2, 5, 6, 1, 2, 3, 4, 3, 3, 5, 2, 7, 4, 4, 1, 2, 3, 6, 6, 1, 3, 3, 6, 6, 1, 2, 6, 6, 7, 4, 7, 1, 3, 6, 1, 3, 6, 2, 3, 3, 4, 7, 1, 3, 7, 2, 1, 2, 7, 4, 7, 6, 2, 3, 4, 5, 6, 7, 5, 7, 2, 3, 6, 1, 1, 4, 6, 4, 6, 2, 2, 5, 2, 7, 6, 1, 3, 5, 2, 5, 2, 5, 7, 7, 1, 2, 5, 6, 7, 1, 6, 1, 2, 6, 7, 2, 3, 1, 5, 6, 4, 5, 6, 2, 3, 4, 1, 6, 7, 3, 4, 1, 4, 7, 2, 4, 7, 1, 4, 1, 6, 6, 7], \"Freq\": [0.5130270188590289, 0.0932776397925507, 0.3731105591702028, 0.9140451696303588, 0.3572421123593399, 0.6251736966288448, 0.6313308898524931, 0.21044362995083102, 0.140295753300554, 0.8477156291674871, 0.09419062546305412, 0.5769843829025791, 0.34619062974154746, 0.23152174319407232, 0.7679745627900936, 0.20442543755269552, 0.4599572344935649, 0.3066381563290433, 0.9592920753622431, 0.9400067988517271, 0.14850731508809942, 0.8167902329845468, 0.9508854031368292, 0.97294989533365, 0.9670616767376606, 0.9102281498678655, 0.8718025267717632, 0.7339308624018135, 0.18348271560045337, 0.04587067890011334, 0.9912822393657613, 0.33156672628963463, 0.48227887460310487, 0.15071214831347027, 0.9810397847181609, 0.9337476568119096, 0.9964699657611692, 0.9163858541335512, 0.7440009282717904, 0.22892336254516626, 0.9040117652664201, 0.5510056020048417, 0.061222844667204644, 0.061222844667204644, 0.24489137866881858, 0.6931240473993422, 0.2854040195173762, 0.9961566411542314, 0.5480606058059119, 0.42158508138916295, 0.10500210189064187, 0.8400168151251349, 0.21811833905283445, 0.14541222603522297, 0.29082445207044594, 0.29082445207044594, 0.9163840412217786, 0.9586217847619293, 0.9634385606987693, 0.9266826433472256, 0.7016450544645236, 0.21049351633935706, 0.9581552765481328, 0.6164428484915216, 0.08806326407021738, 0.26418979221065214, 0.984869194745348, 0.6987040441283037, 0.14972229517035077, 0.14972229517035077, 0.2835235688196474, 0.6615549939125106, 0.9129378624546057, 0.9896465558290859, 0.6670382997932244, 0.2779326249138435, 0.19872105108792296, 0.5961631532637689, 0.13248070072528198, 0.7417044093909824, 0.19518537089236376, 0.19358213537976718, 0.7743285415190687, 0.278117323738078, 0.6952933093451951, 0.0651424419159699, 0.22799854670589464, 0.3908546514958194, 0.29314098862186455, 0.3981936280474699, 0.5878096414034079, 0.5909196776686259, 0.3282887098159033, 0.06565774196318065, 0.3951536893413332, 0.5532151650778665, 0.7570476242751186, 0.2294083709924602, 0.781139630615836, 0.0918987800724513, 0.0918987800724513, 0.11768597197674081, 0.8238018038371857, 0.7567815323484678, 0.21622329495670506, 0.3381145474669716, 0.0845286368667429, 0.5071718212004575, 0.978423946188241, 0.875594826351635, 0.11077614463270126, 0.22155228926540252, 0.5538807231635063, 0.9161956823395665, 0.8909758925716105, 0.055685993285725655, 0.4926130844702448, 0.12170440910441344, 0.19414750976180237, 0.19124978573550683, 0.8882155210081862, 0.9736080406236296, 0.10433127804852393, 0.8346502243881915, 0.12537748422732772, 0.8149536474776302, 0.6739352456835372, 0.14976338792967495, 0.14976338792967495, 0.9396740668229927, 0.7268386111018452, 0.24227953703394842, 0.7670694425002159, 0.12784490708336932, 0.9501801566450896, 0.14272197622785698, 0.24976345839874972, 0.17840247028482123, 0.035680494056964246, 0.17840247028482123, 0.21408296434178548, 0.22351505580250625, 0.7698851922086326, 0.14260938725808744, 0.7843516299194809, 0.9969086419705631, 0.2605105833479653, 0.5731232833655237, 0.13025529167398264, 0.3662309663307923, 0.6103849438846538, 0.4596432442752248, 0.4596432442752248, 0.20658401371231225, 0.20658401371231225, 0.5164600342807806, 0.10329200685615612, 0.4322297516567754, 0.3457838013254203, 0.2161148758283877, 0.9647501666929024, 0.9529859120314317, 0.6312247263568924, 0.21040824211896414, 0.07013608070632138, 0.8842200013355791, 0.7984877671720539, 0.1746691990688868, 0.7721754345534654, 0.19304385863836634, 0.8835290564389036, 0.11433491891706203, 0.3430047567511861, 0.11433491891706203, 0.3430047567511861, 0.7905593689386302, 0.17567985976414005, 0.9021226367530406, 0.624880922952996, 0.208293640984332, 0.138862427322888, 0.18587111541281878, 0.37174223082563757, 0.18587111541281878, 0.23233889426602347, 0.9532446217016439, 0.7202157962481781, 0.24007193208272604, 0.9201474931550349, 0.04380665048270658, 0.9418429853781914, 0.5736833399728126, 0.4097738142662948, 0.7658926928603627, 0.17019837619119169, 0.29669169537887835, 0.29669169537887835, 0.07417292384471959, 0.29669169537887835, 0.9543781958567426, 0.2554251206633452, 0.2161289482535998, 0.5108502413266904, 0.9613629996063354, 0.775035201222965, 0.19375880030574125, 0.5746376015761536, 0.3447825609456922, 0.9945588498740836, 0.9591522635456345, 0.5841432374085439, 0.3186235840410239, 0.10620786134700798, 0.9364423314971316, 0.961157618158387, 0.960159117489606, 0.9540591130716318, 0.9720010525874111, 0.9224175155584352, 0.9700240648798668, 0.4355032158717183, 0.1742012863486873, 0.261301929523031, 0.8325348298512747, 0.08325348298512747, 0.6775732725376787, 0.3079878511534903, 0.07451637654410578, 0.8196801419851637, 0.9667725394895196, 0.7684990089775736, 0.21281511017840501, 0.017734592514867083, 0.35050198154648765, 0.5841699692441461, 0.562435197727474, 0.281217598863737, 0.09373919962124568, 0.7928924014148981, 0.1761983114255329, 0.9102336490200896, 0.9691208525488479, 0.07480089204133515, 0.5984071363306812, 0.22440267612400547, 0.6939270342550569, 0.27757081370202275, 0.967688634121778, 0.4206499506652455, 0.1402166502217485, 0.1121733201773988, 0.1121733201773988, 0.1121733201773988, 0.0841299901330491, 0.9444235449077495, 0.9907985488970216, 0.3739788083686367, 0.448774570042364, 0.07479576167372733, 0.9835648524279902, 0.2720516097112186, 0.06801290242780465, 0.6121161218502419, 0.8015702165618899, 0.18035329872642522, 0.9970751340973545, 0.7744235788862613, 0.14080428707022935, 0.2723831464393716, 0.7004138051298127, 0.9780570956776895, 0.12251309014615708, 0.796335085950021, 0.06125654507307854, 0.7916381462135917, 0.17591958804746483, 0.15088123441815873, 0.050293744806052906, 0.7544061720907936, 0.9907491592734045, 0.08048508573574223, 0.5633956001501956, 0.3219403429429689, 0.8437588344652306, 0.15341069717549646, 0.1527991885004262, 0.8251156179023016, 0.30232939874693293, 0.16124234599836423, 0.3829505717461151, 0.15116469937346647, 0.6747534034447042, 0.28918003004773035, 0.5443416320113147, 0.2177366528045259, 0.2177366528045259, 0.976294960698231, 0.9575275728467041, 0.9787737423260914, 0.22292939832063796, 0.37154899720106327, 0.37154899720106327, 0.3828042490914517, 0.19140212454572586, 0.3828042490914517, 0.954059196688485, 0.9454750071180916, 0.9643402973153954, 0.6793564275495706, 0.2264521425165235, 0.1879298525227907, 0.22551582302734885, 0.5637895575683721, 0.803247435873886, 0.18319678362036, 0.7583455110986957, 0.17500281025354517, 0.33211292970647577, 0.553521549510793], \"Term\": [\"\\u4e0a\\u53f0\", \"\\u4e0a\\u53f0\", \"\\u4e0a\\u53f0\", \"\\u4e2d\\u6587\", \"\\u4e3b\\u984c\", \"\\u4e3b\\u984c\", \"\\u4e92\\u52d5\", \"\\u4e92\\u52d5\", \"\\u4e92\\u52d5\", \"\\u4efd\\u91cf\", \"\\u4efd\\u91cf\", \"\\u4f5c\\u54c1\", \"\\u4f5c\\u54c1\", \"\\u4f5c\\u696d\", \"\\u4f5c\\u696d\", \"\\u4f5c\\u7b54\", \"\\u4f5c\\u7b54\", \"\\u4f5c\\u7b54\", \"\\u4f8b\\u5b50\", \"\\u4f8b\\u984c\", \"\\u5099\\u8ab2\", \"\\u5099\\u8ab2\", \"\\u516c\\u5f0f\", \"\\u5206\\u6578\", \"\\u5206\\u7d44\", \"\\u5275\\u610f\", \"\\u529f\\u8ab2\", \"\\u52a0\\u5206\", \"\\u52a0\\u5206\", \"\\u52a0\\u5206\", \"\\u52a9\\u6559\", \"\\u52d5\\u4f5c\", \"\\u52d5\\u4f5c\", \"\\u52d5\\u4f5c\", \"\\u53cd\\u61c9\", \"\\u54c1\\u8cea\", \"\\u554f\\u984c\", \"\\u56de\\u53bb\", \"\\u56de\\u994b\", \"\\u56de\\u994b\", \"\\u570b\\u6587\\u8ab2\", \"\\u57fa\\u672c\", \"\\u57fa\\u672c\", \"\\u57fa\\u672c\", \"\\u57fa\\u672c\", \"\\u57fa\\u790e\", \"\\u57fa\\u790e\", \"\\u5831\\u544a\", \"\\u58d3\\u529b\", \"\\u58d3\\u529b\", \"\\u5b78\\u5206\", \"\\u5b78\\u5206\", \"\\u5b78\\u5f1f\\u59b9\", \"\\u5b78\\u5f1f\\u59b9\", \"\\u5b78\\u5f1f\\u59b9\", \"\\u5b78\\u5f1f\\u59b9\", \"\\u5be6\\u52d9\", \"\\u5be6\\u9a57\", \"\\u5be6\\u9ad4\", \"\\u5c08\\u984c\", \"\\u5c0f\\u7d44\", \"\\u5c0f\\u7d44\", \"\\u5c0f\\u8003\", \"\\u5e0c\\u671b\", \"\\u5e0c\\u671b\", \"\\u5e0c\\u671b\", \"\\u5e6b\\u52a9\", \"\\u5efa\\u8b70\", \"\\u5efa\\u8b70\", \"\\u5efa\\u8b70\", \"\\u5f48\\u6027\", \"\\u5f48\\u6027\", \"\\u5f62\\u5f0f\", \"\\u5f71\\u7247\", \"\\u5fc3\\u5f97\", \"\\u5fc3\\u5f97\", \"\\u5fc5\\u4fee\", \"\\u5fc5\\u4fee\", \"\\u5fc5\\u4fee\", \"\\u60f3\\u6cd5\", \"\\u60f3\\u6cd5\", \"\\u610f\\u601d\", \"\\u610f\\u601d\", \"\\u610f\\u7fa9\", \"\\u610f\\u7fa9\", \"\\u610f\\u898b\", \"\\u610f\\u898b\", \"\\u610f\\u898b\", \"\\u610f\\u898b\", \"\\u614b\\u5ea6\", \"\\u614b\\u5ea6\", \"\\u61c9\\u7528\", \"\\u61c9\\u7528\", \"\\u61c9\\u7528\", \"\\u61c9\\u7528\\u6027\", \"\\u61c9\\u7528\\u6027\", \"\\u6210\\u7e3e\", \"\\u6210\\u7e3e\", \"\\u6280\\u5de7\", \"\\u6280\\u5de7\", \"\\u6280\\u5de7\", \"\\u6295\\u5f71\\u7247\", \"\\u6295\\u5f71\\u7247\", \"\\u6388\\u8ab2\", \"\\u6388\\u8ab2\", \"\\u63d0\\u524d\", \"\\u63d0\\u524d\", \"\\u63d0\\u524d\", \"\\u6536\\u7a6b\", \"\\u653f\\u6cbb\", \"\\u6545\\u4e8b\", \"\\u6545\\u4e8b\", \"\\u6545\\u4e8b\", \"\\u6548\\u679c\", \"\\u6548\\u7387\", \"\\u6548\\u7387\", \"\\u6559\\u5b78\", \"\\u6559\\u5b78\", \"\\u6559\\u5b78\", \"\\u6559\\u5b78\", \"\\u6559\\u5e2b\", \"\\u6559\\u6750\", \"\\u6559\\u8ab2\", \"\\u6559\\u8ab2\", \"\\u6578\\u5b78\", \"\\u6578\\u5b78\", \"\\u6587\\u5316\", \"\\u6587\\u5316\", \"\\u6587\\u5316\", \"\\u6587\\u672c\", \"\\u6587\\u7ae0\", \"\\u6587\\u7ae0\", \"\\u65b0\\u77e5\", \"\\u65b0\\u77e5\", \"\\u65b9\\u5411\", \"\\u65b9\\u6cd5\", \"\\u65b9\\u6cd5\", \"\\u65b9\\u6cd5\", \"\\u65b9\\u6cd5\", \"\\u65b9\\u6cd5\", \"\\u65b9\\u6cd5\", \"\\u65b9\\u9762\", \"\\u65b9\\u9762\", \"\\u6642\\u4e8b\", \"\\u6642\\u4e8b\", \"\\u6642\\u9593\", \"\\u671f\\u4e2d\\u8003\", \"\\u671f\\u4e2d\\u8003\", \"\\u671f\\u4e2d\\u8003\", \"\\u671f\\u672b\\u8003\", \"\\u671f\\u672b\\u8003\", \"\\u67b6\\u69cb\", \"\\u67b6\\u69cb\", \"\\u6848\\u4f8b\", \"\\u6848\\u4f8b\", \"\\u6848\\u4f8b\", \"\\u6848\\u4f8b\", \"\\u689d\\u7406\", \"\\u689d\\u7406\", \"\\u689d\\u7406\", \"\\u6982\\u5ff5\", \"\\u6a19\\u6e96\", \"\\u6a21\\u5f0f\", \"\\u6a21\\u5f0f\", \"\\u6a21\\u5f0f\", \"\\u6a5f\\u5236\", \"\\u6a5f\\u6703\", \"\\u6a5f\\u6703\", \"\\u6b65\\u8abf\", \"\\u6b65\\u8abf\", \"\\u6bd4\\u8cfd\", \"\\u6c23\\u6c1b\", \"\\u6c23\\u6c1b\", \"\\u6c23\\u6c1b\", \"\\u6c23\\u6c1b\", \"\\u6d3b\\u52d5\", \"\\u6d3b\\u52d5\", \"\\u6df1\\u5ea6\", \"\\u6e2c\\u9a57\", \"\\u6e2c\\u9a57\", \"\\u6e2c\\u9a57\", \"\\u6f14\\u8b1b\", \"\\u6f14\\u8b1b\", \"\\u6f14\\u8b1b\", \"\\u6f14\\u8b1b\", \"\\u71b1\\u5ff1\", \"\\u7269\\u7406\", \"\\u7269\\u7406\", \"\\u7372\\u76ca\", \"\\u7406\\u8ad6\", \"\\u7406\\u8ad6\", \"\\u751f\\u6d3b\", \"\\u751f\\u6d3b\", \"\\u751f\\u7269\", \"\\u751f\\u7269\", \"\\u7528\\u5fc3\", \"\\u7528\\u5fc3\", \"\\u7528\\u5fc3\", \"\\u7528\\u5fc3\", \"\\u7591\\u554f\", \"\\u75ab\\u60c5\", \"\\u75ab\\u60c5\", \"\\u75ab\\u60c5\", \"\\u767c\\u554f\", \"\\u767c\\u8a00\", \"\\u767c\\u8a00\", \"\\u770b\\u6cd5\", \"\\u770b\\u6cd5\", \"\\u77e5\\u8b58\", \"\\u79d1\\u7cfb\", \"\\u7a0b\\u5ea6\", \"\\u7a0b\\u5ea6\", \"\\u7a0b\\u5ea6\", \"\\u7ae0\\u7bc0\", \"\\u7b46\\u8a18\", \"\\u7b54\\u6848\", \"\\u7bc0\\u594f\", \"\\u7bc4\\u570d\", \"\\u7c21\\u5831\", \"\\u7cfb\\u7d71\", \"\\u7cfb\\u7d71\\u6027\", \"\\u7cfb\\u7d71\\u6027\", \"\\u7cfb\\u7d71\\u6027\", \"\\u7d93\\u6fdf\", \"\\u7d93\\u6fdf\", \"\\u7d93\\u9a57\", \"\\u7d93\\u9a57\", \"\\u7dda\\u4e0a\\u6559\\u5b78\", \"\\u7dda\\u4e0a\\u6559\\u5b78\", \"\\u8003\\u5377\", \"\\u8003\\u8a66\", \"\\u8003\\u8a66\", \"\\u8003\\u8a66\", \"\\u8010\\u5fc3\", \"\\u8010\\u5fc3\", \"\\u8072\\u97f3\", \"\\u8072\\u97f3\", \"\\u8072\\u97f3\", \"\\u807d\\u8ab2\", \"\\u807d\\u8ab2\", \"\\u807d\\u8b1b\", \"\\u80fd\\u529b\", \"\\u8108\\u7d61\", \"\\u8108\\u7d61\", \"\\u8108\\u7d61\", \"\\u8208\\u8da3\", \"\\u8208\\u8da3\", \"\\u8209\\u4f8b\", \"\\u82f1\\u6587\", \"\\u82f1\\u6587\", \"\\u82f1\\u6587\", \"\\u82f1\\u6587\", \"\\u82f1\\u6587\", \"\\u82f1\\u6587\", \"\\u8981\\u6c42\", \"\\u89c0\\u5ff5\", \"\\u8a2d\\u8a08\", \"\\u8a2d\\u8a08\", \"\\u8a2d\\u8a08\", \"\\u8a55\\u5206\", \"\\u8a9e\\u8a00\", \"\\u8a9e\\u8a00\", \"\\u8a9e\\u8a00\", \"\\u8ab2\\u672c\", \"\\u8ab2\\u672c\", \"\\u8ab2\\u7a0b\", \"\\u8ad6\\u6587\", \"\\u8ad6\\u6587\", \"\\u8b1b\\u5e2b\", \"\\u8b1b\\u5e2b\", \"\\u8b1b\\u7fa9\", \"\\u8b1b\\u8a71\", \"\\u8b1b\\u8a71\", \"\\u8b1b\\u8a71\", \"\\u8b1b\\u8ab2\", \"\\u8b1b\\u8ab2\", \"\\u8b70\\u984c\", \"\\u8b70\\u984c\", \"\\u8b70\\u984c\", \"\\u8cc7\\u6599\", \"\\u8cc7\\u6e90\", \"\\u8cc7\\u6e90\", \"\\u8cc7\\u6e90\", \"\\u8cc7\\u8a0a\", \"\\u8cc7\\u8a0a\", \"\\u901f\\u5ea6\", \"\\u901f\\u5ea6\", \"\\u9032\\u5ea6\", \"\\u9032\\u5ea6\", \"\\u9032\\u5ea6\", \"\\u9032\\u5ea6\", \"\\u904b\\u52d5\", \"\\u904b\\u52d5\", \"\\u904e\\u7a0b\", \"\\u904e\\u7a0b\", \"\\u904e\\u7a0b\", \"\\u9060\\u8ddd\", \"\\u908f\\u8f2f\", \"\\u91cd\\u9ede\", \"\\u9304\\u5f71\", \"\\u9304\\u5f71\", \"\\u9304\\u5f71\", \"\\u932f\\u8aa4\", \"\\u932f\\u8aa4\", \"\\u932f\\u8aa4\", \"\\u9632\\u75ab\", \"\\u96e3\\u5ea6\", \"\\u96fb\\u8166\", \"\\u975e\", \"\\u975e\", \"\\u9818\\u57df\", \"\\u9818\\u57df\", \"\\u9818\\u57df\", \"\\u984c\\u76ee\", \"\\u984c\\u76ee\", \"\\u984d\\u5916\", \"\\u984d\\u5916\", \"\\u9ed1\\u677f\", \"\\u9ed1\\u677f\"]}, \"R\": 30, \"lambda.step\": 0.01, \"plot.opts\": {\"xlab\": \"PC1\", \"ylab\": \"PC2\"}, \"topic.order\": [7, 4, 3, 2, 5, 6, 1]};\n",
       "\n",
       "function LDAvis_load_lib(url, callback){\n",
       "  var s = document.createElement('script');\n",
       "  s.src = url;\n",
       "  s.async = true;\n",
       "  s.onreadystatechange = s.onload = callback;\n",
       "  s.onerror = function(){console.warn(\"failed to load library \" + url);};\n",
       "  document.getElementsByTagName(\"head\")[0].appendChild(s);\n",
       "}\n",
       "\n",
       "if(typeof(LDAvis) !== \"undefined\"){\n",
       "   // already loaded: just create the visualization\n",
       "   !function(LDAvis){\n",
       "       new LDAvis(\"#\" + \"ldavis_el648816290643793361270037813\", ldavis_el648816290643793361270037813_data);\n",
       "   }(LDAvis);\n",
       "}else if(typeof define === \"function\" && define.amd){\n",
       "   // require.js is available: use it to load d3/LDAvis\n",
       "   require.config({paths: {d3: \"https://cdnjs.cloudflare.com/ajax/libs/d3/3.5.5/d3.min\"}});\n",
       "   require([\"d3\"], function(d3){\n",
       "      window.d3 = d3;\n",
       "      LDAvis_load_lib(\"https://cdn.rawgit.com/bmabey/pyLDAvis/files/ldavis.v1.0.0.js\", function(){\n",
       "        new LDAvis(\"#\" + \"ldavis_el648816290643793361270037813\", ldavis_el648816290643793361270037813_data);\n",
       "      });\n",
       "    });\n",
       "}else{\n",
       "    // require.js not available: dynamically load d3 & LDAvis\n",
       "    LDAvis_load_lib(\"https://cdnjs.cloudflare.com/ajax/libs/d3/3.5.5/d3.min.js\", function(){\n",
       "         LDAvis_load_lib(\"https://cdn.rawgit.com/bmabey/pyLDAvis/files/ldavis.v1.0.0.js\", function(){\n",
       "                 new LDAvis(\"#\" + \"ldavis_el648816290643793361270037813\", ldavis_el648816290643793361270037813_data);\n",
       "            })\n",
       "         });\n",
       "}\n",
       "</script>"
      ],
      "text/plain": [
       "PreparedData(topic_coordinates=              x         y  topics  cluster       Freq\n",
       "topic                                                \n",
       "6      0.129196 -0.071180       1        1  17.024468\n",
       "3     -0.151696  0.089864       2        1  16.088077\n",
       "2      0.305926 -0.014848       3        1  15.170168\n",
       "1     -0.028174 -0.175332       4        1  13.964256\n",
       "4      0.051482  0.337463       5        1  13.268892\n",
       "5     -0.247673  0.025157       6        1  12.369480\n",
       "0     -0.059061 -0.191124       7        1  12.114660, topic_info=    Term        Freq       Total Category  logprob  loglift\n",
       "21    課程  317.000000  317.000000  Default  30.0000  30.0000\n",
       "36    時間  199.000000  199.000000  Default  29.0000  29.0000\n",
       "56    問題  197.000000  197.000000  Default  28.0000  28.0000\n",
       "16    報告  166.000000  166.000000  Default  27.0000  27.0000\n",
       "22    作業  177.000000  177.000000  Default  26.0000  26.0000\n",
       "..   ...         ...         ...      ...      ...      ...\n",
       "72    經驗    9.906504   32.468813   Topic7  -4.1607   0.9237\n",
       "108   意見    8.738131   30.701950   Topic7  -4.2862   0.8541\n",
       "2     教學   65.843490  345.098426   Topic7  -2.2666   0.4542\n",
       "131   興趣    5.835530   21.616106   Topic7  -4.6899   0.8013\n",
       "11    進度   15.224940   99.229516   Topic7  -3.7310   0.2363\n",
       "\n",
       "[263 rows x 6 columns], token_table=      Topic      Freq Term\n",
       "term                      \n",
       "100       3  0.513027   上台\n",
       "100       4  0.093278   上台\n",
       "100       5  0.373111   上台\n",
       "133       2  0.914045   中文\n",
       "39        2  0.357242   主題\n",
       "...     ...       ...  ...\n",
       "14        4  0.183197   題目\n",
       "119       1  0.758346   額外\n",
       "119       6  0.175003   額外\n",
       "125       6  0.332113   黑板\n",
       "125       7  0.553522   黑板\n",
       "\n",
       "[319 rows x 3 columns], R=30, lambda_step=0.01, plot_opts={'xlab': 'PC1', 'ylab': 'PC2'}, topic_order=[7, 4, 3, 2, 5, 6, 1])"
      ]
     },
     "execution_count": 352,
     "metadata": {},
     "output_type": "execute_result"
    }
   ],
   "source": [
    "graph"
   ]
  },
  {
   "cell_type": "code",
   "execution_count": 353,
   "metadata": {},
   "outputs": [],
   "source": [
    "pyLDAvis.save_html(graph, 'lda_final_all.html')"
   ]
  },
  {
   "cell_type": "markdown",
   "metadata": {},
   "source": [
    "---"
   ]
  }
 ],
 "metadata": {
  "kernelspec": {
   "display_name": "Python 3",
   "language": "python",
   "name": "python3"
  },
  "language_info": {
   "codemirror_mode": {
    "name": "ipython",
    "version": 3
   },
   "file_extension": ".py",
   "mimetype": "text/x-python",
   "name": "python",
   "nbconvert_exporter": "python",
   "pygments_lexer": "ipython3",
   "version": "3.7.4"
  }
 },
 "nbformat": 4,
 "nbformat_minor": 2
}
