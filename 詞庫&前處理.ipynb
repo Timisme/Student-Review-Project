{
 "cells": [
  {
   "cell_type": "markdown",
   "metadata": {},
   "source": [
    "情緒辭典參考 http://nlp.innobic.yzu.edu.tw/resources/cvaw.html"
   ]
  },
  {
   "cell_type": "code",
   "execution_count": 1,
   "metadata": {},
   "outputs": [],
   "source": [
    "import pandas as pd\n",
    "import numpy as np \n",
    "import re"
   ]
  },
  {
   "cell_type": "code",
   "execution_count": 9,
   "metadata": {},
   "outputs": [],
   "source": [
    "pd.set_option('display.max_rows',200)\n",
    "pd.set_option('display.max_columns',200)\n",
    "pd.set_option('display.max_colwidth',200)"
   ]
  },
  {
   "cell_type": "code",
   "execution_count": 10,
   "metadata": {},
   "outputs": [],
   "source": [
    "df = pd.read_csv('hahow_feedback.csv', delimiter=',',encoding='ANSI')"
   ]
  },
  {
   "cell_type": "code",
   "execution_count": 11,
   "metadata": {},
   "outputs": [
    {
     "data": {
      "text/html": [
       "<div>\n",
       "<style scoped>\n",
       "    .dataframe tbody tr th:only-of-type {\n",
       "        vertical-align: middle;\n",
       "    }\n",
       "\n",
       "    .dataframe tbody tr th {\n",
       "        vertical-align: top;\n",
       "    }\n",
       "\n",
       "    .dataframe thead th {\n",
       "        text-align: right;\n",
       "    }\n",
       "</style>\n",
       "<table border=\"1\" class=\"dataframe\">\n",
       "  <thead>\n",
       "    <tr style=\"text-align: right;\">\n",
       "      <th></th>\n",
       "      <th>文本</th>\n",
       "      <th>情緒標記</th>\n",
       "    </tr>\n",
       "  </thead>\n",
       "  <tbody>\n",
       "    <tr>\n",
       "      <td>0</td>\n",
       "      <td>上完課後，真的很慶幸有買到課程並真心覺得物超所值，對於新手的我，淺顯易懂很容易就了解製作podcast的技巧，一直都很喜歡聽podcast，但沒想到可以自己創作出自己的節目來，能接觸到這個課程真的很開心，課程適合新手入門，講了很多製作podcast的基本原則，能夠打好基礎之後再自己慢慢精進能力，對於自己經營製作節目，或是網路行銷的概念都很實用，上課不會無聊想睡覺，每一節課長度剛剛好節奏明快...</td>\n",
       "      <td>1.0</td>\n",
       "    </tr>\n",
       "    <tr>\n",
       "      <td>1</td>\n",
       "      <td>是很值得的課, 對入門很有用</td>\n",
       "      <td>1.0</td>\n",
       "    </tr>\n",
       "    <tr>\n",
       "      <td>2</td>\n",
       "      <td>很棒的課，獲益良多！謝謝老師。</td>\n",
       "      <td>1.0</td>\n",
       "    </tr>\n",
       "  </tbody>\n",
       "</table>\n",
       "</div>"
      ],
      "text/plain": [
       "                                                                                                                                                                                                        文本  \\\n",
       "0  上完課後，真的很慶幸有買到課程並真心覺得物超所值，對於新手的我，淺顯易懂很容易就了解製作podcast的技巧，一直都很喜歡聽podcast，但沒想到可以自己創作出自己的節目來，能接觸到這個課程真的很開心，課程適合新手入門，講了很多製作podcast的基本原則，能夠打好基礎之後再自己慢慢精進能力，對於自己經營製作節目，或是網路行銷的概念都很實用，上課不會無聊想睡覺，每一節課長度剛剛好節奏明快...   \n",
       "1                                                                                                                                                                                           是很值得的課, 對入門很有用   \n",
       "2                                                                                                                                                                                          很棒的課，獲益良多！謝謝老師。   \n",
       "\n",
       "   情緒標記  \n",
       "0   1.0  \n",
       "1   1.0  \n",
       "2   1.0  "
      ]
     },
     "execution_count": 11,
     "metadata": {},
     "output_type": "execute_result"
    }
   ],
   "source": [
    "df.head(3)"
   ]
  },
  {
   "cell_type": "code",
   "execution_count": 44,
   "metadata": {},
   "outputs": [
    {
     "data": {
      "text/plain": [
       "'完整的內容與清晰的課程，讓人明確知道如何實踐。'"
      ]
     },
     "execution_count": 44,
     "metadata": {},
     "output_type": "execute_result"
    }
   ],
   "source": [
    "df[df.index==8]['文本'].values[0]"
   ]
  },
  {
   "cell_type": "code",
   "execution_count": 59,
   "metadata": {},
   "outputs": [],
   "source": [
    "def get_raw_txtLen(txt):\n",
    "    return len(txt)"
   ]
  },
  {
   "cell_type": "markdown",
   "metadata": {},
   "source": [
    "## 選取字數超過40字的文本"
   ]
  },
  {
   "cell_type": "code",
   "execution_count": 77,
   "metadata": {},
   "outputs": [],
   "source": [
    "df_selected = df[df['文本'].apply(get_raw_txtLen)>40]"
   ]
  },
  {
   "cell_type": "code",
   "execution_count": 78,
   "metadata": {},
   "outputs": [
    {
     "data": {
      "text/html": [
       "<div>\n",
       "<style scoped>\n",
       "    .dataframe tbody tr th:only-of-type {\n",
       "        vertical-align: middle;\n",
       "    }\n",
       "\n",
       "    .dataframe tbody tr th {\n",
       "        vertical-align: top;\n",
       "    }\n",
       "\n",
       "    .dataframe thead th {\n",
       "        text-align: right;\n",
       "    }\n",
       "</style>\n",
       "<table border=\"1\" class=\"dataframe\">\n",
       "  <thead>\n",
       "    <tr style=\"text-align: right;\">\n",
       "      <th></th>\n",
       "      <th>文本</th>\n",
       "      <th>情緒標記</th>\n",
       "    </tr>\n",
       "  </thead>\n",
       "  <tbody>\n",
       "    <tr>\n",
       "      <td>79</td>\n",
       "      <td>原本對這堂課很期待..結果老師感覺根本在照本宣科..內容也很貧脊..感覺去找本給初學者的暢銷...</td>\n",
       "      <td>0.0</td>\n",
       "    </tr>\n",
       "    <tr>\n",
       "      <td>80</td>\n",
       "      <td>原本以為老師會分享他獨有的進出場方法，但看完根本只是上網找些資料，逐字稿的照唸，而且每集的錄...</td>\n",
       "      <td>0.0</td>\n",
       "    </tr>\n",
       "    <tr>\n",
       "      <td>85</td>\n",
       "      <td>畫面與聲音\"貌合神離\"，像在聽廣播，沒有發揮影音教學的特質，到最後解鎖課程時，才說明課程外包...</td>\n",
       "      <td>0.0</td>\n",
       "    </tr>\n",
       "  </tbody>\n",
       "</table>\n",
       "</div>"
      ],
      "text/plain": [
       "                                                   文本  情緒標記\n",
       "79  原本對這堂課很期待..結果老師感覺根本在照本宣科..內容也很貧脊..感覺去找本給初學者的暢銷...   0.0\n",
       "80  原本以為老師會分享他獨有的進出場方法，但看完根本只是上網找些資料，逐字稿的照唸，而且每集的錄...   0.0\n",
       "85  畫面與聲音\"貌合神離\"，像在聽廣播，沒有發揮影音教學的特質，到最後解鎖課程時，才說明課程外包...   0.0"
      ]
     },
     "execution_count": 78,
     "metadata": {},
     "output_type": "execute_result"
    }
   ],
   "source": [
    "df_selected.tail(3)"
   ]
  },
  {
   "cell_type": "markdown",
   "metadata": {},
   "source": [
    "---"
   ]
  },
  {
   "cell_type": "markdown",
   "metadata": {},
   "source": [
    "# 斷句"
   ]
  },
  {
   "cell_type": "code",
   "execution_count": 70,
   "metadata": {},
   "outputs": [],
   "source": [
    "def cut2sentence(txt):\n",
    "    txt = txt.split('，')\n",
    "    return txt"
   ]
  },
  {
   "cell_type": "markdown",
   "metadata": {},
   "source": [
    "### 針對第一個文本斷句結果"
   ]
  },
  {
   "cell_type": "code",
   "execution_count": 80,
   "metadata": {},
   "outputs": [
    {
     "data": {
      "text/plain": [
       "['上完課後',\n",
       " '真的很慶幸有買到課程並真心覺得物超所值',\n",
       " '對於新手的我',\n",
       " '淺顯易懂很容易就了解製作podcast的技巧',\n",
       " '一直都很喜歡聽podcast',\n",
       " '但沒想到可以自己創作出自己的節目來',\n",
       " '能接觸到這個課程真的很開心',\n",
       " '課程適合新手入門',\n",
       " '講了很多製作podcast的基本原則',\n",
       " '能夠打好基礎之後再自己慢慢精進能力',\n",
       " '對於自己經營製作節目',\n",
       " '或是網路行銷的概念都很實用',\n",
       " '上課不會無聊想睡覺',\n",
       " '每一節課長度剛剛好節奏明快',\n",
       " '此外',\n",
       " '老師也很熱心給予建議',\n",
       " '讓學生能得到實質上的進步',\n",
       " '謝謝老師的用心！']"
      ]
     },
     "execution_count": 80,
     "metadata": {},
     "output_type": "execute_result"
    }
   ],
   "source": [
    "df_selected['文本'].apply(cut2sentence)[0]"
   ]
  },
  {
   "cell_type": "markdown",
   "metadata": {},
   "source": [
    "### 針對特殊情況"
   ]
  },
  {
   "cell_type": "code",
   "execution_count": 82,
   "metadata": {},
   "outputs": [
    {
     "data": {
      "text/plain": [
       "['原本對這堂課很期待..結果老師感覺根本在照本宣科..內容也很貧脊..感覺去找本給初學者的暢銷書都可以講得比這有趣...非常不推薦購買...(有種浪費錢的感覺)']"
      ]
     },
     "execution_count": 82,
     "metadata": {},
     "output_type": "execute_result"
    }
   ],
   "source": [
    "df_selected['文本'].apply(cut2sentence)[79]"
   ]
  },
  {
   "cell_type": "code",
   "execution_count": 91,
   "metadata": {},
   "outputs": [],
   "source": [
    "special_txt=df_selected['文本'].apply(cut2sentence)[79]\n",
    "\n",
    "pattern = re.sub('(\\…{2})([^”’])', r\"\\1\\n\\2\", special_txt[0])"
   ]
  },
  {
   "cell_type": "code",
   "execution_count": 109,
   "metadata": {
    "scrolled": true
   },
   "outputs": [
    {
     "data": {
      "text/plain": [
       "['原本對這堂課很期待',\n",
       " '結果老師感覺根本在照本宣科',\n",
       " '內容也很貧脊',\n",
       " '感覺去找本給初學者的暢銷書都可以講得比這有趣',\n",
       " '非常不推薦購買',\n",
       " '(有種浪費錢的感覺)']"
      ]
     },
     "execution_count": 109,
     "metadata": {},
     "output_type": "execute_result"
    }
   ],
   "source": [
    "[stc for stc in special_txt[0].replace('.',' ').split(' ') if stc != '']"
   ]
  },
  {
   "cell_type": "markdown",
   "metadata": {},
   "source": [
    "---"
   ]
  },
  {
   "cell_type": "markdown",
   "metadata": {},
   "source": [
    "# 文本相似度"
   ]
  },
  {
   "cell_type": "code",
   "execution_count": 51,
   "metadata": {},
   "outputs": [],
   "source": [
    "from sklearn.feature_extraction.text import TfidfVectorizer\n",
    "from sklearn.metrics.pairwise import linear_kernel\n",
    "import jieba"
   ]
  },
  {
   "cell_type": "code",
   "execution_count": 99,
   "metadata": {},
   "outputs": [],
   "source": [
    "corpus= [\n",
    "    '這堂課很糟糕',\n",
    "    '我覺得這堂課很糟糕',\n",
    "    '老師講話很慢好想睡覺',\n",
    "    '有點想睡覺',\n",
    "    '有點想睡覺',\n",
    "    '感覺去找本給初學者的暢銷書都可以講得比這有趣',\n",
    "    '結果老師感覺根本在照本宣科'\n",
    "]"
   ]
  },
  {
   "cell_type": "code",
   "execution_count": 100,
   "metadata": {},
   "outputs": [],
   "source": [
    "corpus_cleaned= []\n",
    "for txt in corpus:\n",
    "    words_cut = jieba.cut(txt)\n",
    "    corpus_cleaned.append(' '.join(words_cut))"
   ]
  },
  {
   "cell_type": "code",
   "execution_count": 101,
   "metadata": {},
   "outputs": [
    {
     "data": {
      "text/plain": [
       "['這堂 課 很 糟糕',\n",
       " '我覺 得 這堂 課 很 糟糕',\n",
       " '老師 講話 很慢 好 想 睡覺',\n",
       " '有點 想 睡覺',\n",
       " '有點 想 睡覺',\n",
       " '感覺 去 找 本給 初學者 的 暢銷 書 都 可以 講得 比 這 有趣',\n",
       " '結果 老師 感覺 根本 在 照本宣科']"
      ]
     },
     "execution_count": 101,
     "metadata": {},
     "output_type": "execute_result"
    }
   ],
   "source": [
    "corpus_cleaned"
   ]
  },
  {
   "cell_type": "code",
   "execution_count": 102,
   "metadata": {},
   "outputs": [],
   "source": [
    "vectorizer = TfidfVectorizer(min_df=0, token_pattern='\\\\b\\\\w+\\\\b')\n",
    "tfidf_matrix = vectorizer.fit_transform(corpus_cleaned)"
   ]
  },
  {
   "cell_type": "markdown",
   "metadata": {},
   "source": [
    "# BoW"
   ]
  },
  {
   "cell_type": "code",
   "execution_count": 103,
   "metadata": {},
   "outputs": [
    {
     "name": "stdout",
     "output_type": "stream",
     "text": [
      "['初學者', '去', '可以', '在', '好', '很', '很慢', '得', '想', '感覺', '我覺', '找', '暢銷', '書', '有趣', '有點', '本給', '根本', '比', '照本宣科', '的', '睡覺', '糟糕', '結果', '老師', '課', '講得', '講話', '這', '這堂', '都']\n"
     ]
    }
   ],
   "source": [
    "bag_of_words = vectorizer.get_feature_names()\n",
    "print(bag_of_words)"
   ]
  },
  {
   "cell_type": "code",
   "execution_count": 104,
   "metadata": {},
   "outputs": [],
   "source": [
    "cosine_similarities = linear_kernel(tfidf_matrix, tfidf_matrix)"
   ]
  },
  {
   "cell_type": "code",
   "execution_count": 105,
   "metadata": {},
   "outputs": [],
   "source": [
    "best_idx = np.argmax(cosine_similarities[2])"
   ]
  },
  {
   "cell_type": "markdown",
   "metadata": {},
   "source": [
    "# 文本相似度"
   ]
  },
  {
   "cell_type": "code",
   "execution_count": 109,
   "metadata": {},
   "outputs": [
    {
     "name": "stdout",
     "output_type": "stream",
     "text": [
      "文本 idx:0 內容: 這堂課很糟糕\n",
      "最相近的文本: 我覺得這堂課很糟糕\n",
      "\n",
      "文本 idx:1 內容: 我覺得這堂課很糟糕\n",
      "最相近的文本: 這堂課很糟糕\n",
      "\n",
      "文本 idx:2 內容: 老師講話很慢好想睡覺\n",
      "最相近的文本: 有點想睡覺\n",
      "\n",
      "文本 idx:3 內容: 有點想睡覺\n",
      "最相近的文本: 有點想睡覺\n",
      "\n",
      "文本 idx:4 內容: 有點想睡覺\n",
      "最相近的文本: 有點想睡覺\n",
      "\n",
      "文本 idx:5 內容: 感覺去找本給初學者的暢銷書都可以講得比這有趣\n",
      "最相近的文本: 結果老師感覺根本在照本宣科\n",
      "\n",
      "文本 idx:6 內容: 結果老師感覺根本在照本宣科\n",
      "最相近的文本: 老師講話很慢好想睡覺\n",
      "\n"
     ]
    }
   ],
   "source": [
    "for idx ,txt in enumerate(corpus_cleaned): \n",
    "    best_match = cosine_similarities[idx].argsort()[-2]\n",
    "    \n",
    "    print('文本 idx:{} 內容: {}'.format(idx, corpus[idx]))\n",
    "    print('最相近的文本: {}\\n'.format(corpus[best_match]))"
   ]
  },
  {
   "cell_type": "code",
   "execution_count": null,
   "metadata": {},
   "outputs": [],
   "source": []
  }
 ],
 "metadata": {
  "kernelspec": {
   "display_name": "Python 3",
   "language": "python",
   "name": "python3"
  },
  "language_info": {
   "codemirror_mode": {
    "name": "ipython",
    "version": 3
   },
   "file_extension": ".py",
   "mimetype": "text/x-python",
   "name": "python",
   "nbconvert_exporter": "python",
   "pygments_lexer": "ipython3",
   "version": "3.7.4"
  }
 },
 "nbformat": 4,
 "nbformat_minor": 2
}
